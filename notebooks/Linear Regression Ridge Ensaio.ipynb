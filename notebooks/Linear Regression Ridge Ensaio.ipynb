{
 "cells": [
  {
   "cell_type": "code",
   "execution_count": 1,
   "id": "f4dfdc60-5af7-4390-980b-f6afa85d3443",
   "metadata": {},
   "outputs": [],
   "source": [
    "import pandas as pd\n",
    "import numpy as np\n",
    "from sklearn.linear_model import Ridge\n",
    "from sklearn.metrics import mean_squared_error, mean_absolute_error, r2_score\n",
    "\n",
    "# Leitura dos dados\n",
    "x_treino = pd.read_csv('C:/Users/Felipe/Documents/Repos/ML/X_training.csv')\n",
    "y_treino = pd.read_csv('C:/Users/Felipe/Documents/Repos/ML/y_training.csv')\n",
    "\n",
    "x_validacao = pd.read_csv('C:/Users/Felipe/Documents/Repos/ML/X_validation.csv')\n",
    "y_validacao = pd.read_csv('C:/Users/Felipe/Documents/Repos/ML/y_val.csv')\n",
    "\n",
    "x_teste = pd.read_csv('C:/Users/Felipe/Documents/Repos/ML/X_test.csv')\n",
    "y_teste = pd.read_csv('C:/Users/Felipe/Documents/Repos/ML/y_test.csv')\n",
    "\n",
    "# Ajuste do y\n",
    "y_treino_1d = y_treino.values.ravel()\n",
    "y_valid_1d = y_validacao.values.ravel()\n",
    "y_teste_1d = y_teste.values.ravel()\n"
   ]
  },
  {
   "cell_type": "code",
   "execution_count": 2,
   "id": "c1aaead8-d177-414f-bb3b-9dccdec397b1",
   "metadata": {},
   "outputs": [
    {
     "data": {
      "text/html": [
       "<style>#sk-container-id-1 {color: black;background-color: white;}#sk-container-id-1 pre{padding: 0;}#sk-container-id-1 div.sk-toggleable {background-color: white;}#sk-container-id-1 label.sk-toggleable__label {cursor: pointer;display: block;width: 100%;margin-bottom: 0;padding: 0.3em;box-sizing: border-box;text-align: center;}#sk-container-id-1 label.sk-toggleable__label-arrow:before {content: \"▸\";float: left;margin-right: 0.25em;color: #696969;}#sk-container-id-1 label.sk-toggleable__label-arrow:hover:before {color: black;}#sk-container-id-1 div.sk-estimator:hover label.sk-toggleable__label-arrow:before {color: black;}#sk-container-id-1 div.sk-toggleable__content {max-height: 0;max-width: 0;overflow: hidden;text-align: left;background-color: #f0f8ff;}#sk-container-id-1 div.sk-toggleable__content pre {margin: 0.2em;color: black;border-radius: 0.25em;background-color: #f0f8ff;}#sk-container-id-1 input.sk-toggleable__control:checked~div.sk-toggleable__content {max-height: 200px;max-width: 100%;overflow: auto;}#sk-container-id-1 input.sk-toggleable__control:checked~label.sk-toggleable__label-arrow:before {content: \"▾\";}#sk-container-id-1 div.sk-estimator input.sk-toggleable__control:checked~label.sk-toggleable__label {background-color: #d4ebff;}#sk-container-id-1 div.sk-label input.sk-toggleable__control:checked~label.sk-toggleable__label {background-color: #d4ebff;}#sk-container-id-1 input.sk-hidden--visually {border: 0;clip: rect(1px 1px 1px 1px);clip: rect(1px, 1px, 1px, 1px);height: 1px;margin: -1px;overflow: hidden;padding: 0;position: absolute;width: 1px;}#sk-container-id-1 div.sk-estimator {font-family: monospace;background-color: #f0f8ff;border: 1px dotted black;border-radius: 0.25em;box-sizing: border-box;margin-bottom: 0.5em;}#sk-container-id-1 div.sk-estimator:hover {background-color: #d4ebff;}#sk-container-id-1 div.sk-parallel-item::after {content: \"\";width: 100%;border-bottom: 1px solid gray;flex-grow: 1;}#sk-container-id-1 div.sk-label:hover label.sk-toggleable__label {background-color: #d4ebff;}#sk-container-id-1 div.sk-serial::before {content: \"\";position: absolute;border-left: 1px solid gray;box-sizing: border-box;top: 0;bottom: 0;left: 50%;z-index: 0;}#sk-container-id-1 div.sk-serial {display: flex;flex-direction: column;align-items: center;background-color: white;padding-right: 0.2em;padding-left: 0.2em;position: relative;}#sk-container-id-1 div.sk-item {position: relative;z-index: 1;}#sk-container-id-1 div.sk-parallel {display: flex;align-items: stretch;justify-content: center;background-color: white;position: relative;}#sk-container-id-1 div.sk-item::before, #sk-container-id-1 div.sk-parallel-item::before {content: \"\";position: absolute;border-left: 1px solid gray;box-sizing: border-box;top: 0;bottom: 0;left: 50%;z-index: -1;}#sk-container-id-1 div.sk-parallel-item {display: flex;flex-direction: column;z-index: 1;position: relative;background-color: white;}#sk-container-id-1 div.sk-parallel-item:first-child::after {align-self: flex-end;width: 50%;}#sk-container-id-1 div.sk-parallel-item:last-child::after {align-self: flex-start;width: 50%;}#sk-container-id-1 div.sk-parallel-item:only-child::after {width: 0;}#sk-container-id-1 div.sk-dashed-wrapped {border: 1px dashed gray;margin: 0 0.4em 0.5em 0.4em;box-sizing: border-box;padding-bottom: 0.4em;background-color: white;}#sk-container-id-1 div.sk-label label {font-family: monospace;font-weight: bold;display: inline-block;line-height: 1.2em;}#sk-container-id-1 div.sk-label-container {text-align: center;}#sk-container-id-1 div.sk-container {/* jupyter's `normalize.less` sets `[hidden] { display: none; }` but bootstrap.min.css set `[hidden] { display: none !important; }` so we also need the `!important` here to be able to override the default hidden behavior on the sphinx rendered scikit-learn.org. See: https://github.com/scikit-learn/scikit-learn/issues/21755 */display: inline-block !important;position: relative;}#sk-container-id-1 div.sk-text-repr-fallback {display: none;}</style><div id=\"sk-container-id-1\" class=\"sk-top-container\"><div class=\"sk-text-repr-fallback\"><pre>Ridge(max_iter=1000)</pre><b>In a Jupyter environment, please rerun this cell to show the HTML representation or trust the notebook. <br />On GitHub, the HTML representation is unable to render, please try loading this page with nbviewer.org.</b></div><div class=\"sk-container\" hidden><div class=\"sk-item\"><div class=\"sk-estimator sk-toggleable\"><input class=\"sk-toggleable__control sk-hidden--visually\" id=\"sk-estimator-id-1\" type=\"checkbox\" checked><label for=\"sk-estimator-id-1\" class=\"sk-toggleable__label sk-toggleable__label-arrow\">Ridge</label><div class=\"sk-toggleable__content\"><pre>Ridge(max_iter=1000)</pre></div></div></div></div></div>"
      ],
      "text/plain": [
       "Ridge(max_iter=1000)"
      ]
     },
     "execution_count": 2,
     "metadata": {},
     "output_type": "execute_result"
    }
   ],
   "source": [
    "alpha = 1.0\n",
    "max_iter = 1000\n",
    "\n",
    "modelo = Ridge(alpha=alpha, max_iter=max_iter)\n",
    "modelo.fit(x_treino, y_treino_1d)\n"
   ]
  },
  {
   "cell_type": "code",
   "execution_count": 3,
   "id": "1f59a476-d996-49c8-b526-282f65603eb2",
   "metadata": {},
   "outputs": [],
   "source": [
    "y_pred_treino = modelo.predict(x_treino)\n",
    "y_pred_valid = modelo.predict(x_validacao)\n",
    "y_pred_teste = modelo.predict(x_teste)\n"
   ]
  },
  {
   "cell_type": "code",
   "execution_count": 4,
   "id": "b7f80309-962f-449e-b667-ea264324353a",
   "metadata": {},
   "outputs": [
    {
     "name": "stdout",
     "output_type": "stream",
     "text": [
      "TREINAMENTO\n",
      "MSE: 455.99640059223805\n",
      "RMSE: 21.354072225040312\n",
      "MAE: 16.998307602320104\n",
      "R2: 0.04605770063554282\n",
      "MAPE: 865.3414734181553\n"
     ]
    }
   ],
   "source": [
    "mse_treino = mean_squared_error(y_treino_1d, y_pred_treino)\n",
    "rmse_treino = np.sqrt(mse_treino)\n",
    "mae_treino = mean_absolute_error(y_treino_1d, y_pred_treino)\n",
    "r2_treino = r2_score(y_treino_1d, y_pred_treino)\n",
    "mape_treino = np.mean(np.abs((y_treino_1d - y_pred_treino) / y_treino_1d)) * 100\n",
    "\n",
    "print(\"TREINAMENTO\")\n",
    "print(\"MSE:\", mse_treino)\n",
    "print(\"RMSE:\", rmse_treino)\n",
    "print(\"MAE:\", mae_treino)\n",
    "print(\"R2:\", r2_treino)\n",
    "print(\"MAPE:\", mape_treino)\n"
   ]
  },
  {
   "cell_type": "code",
   "execution_count": 5,
   "id": "2b749ae2-904f-440b-b1a8-e34d8eabce45",
   "metadata": {},
   "outputs": [
    {
     "name": "stdout",
     "output_type": "stream",
     "text": [
      "\n",
      "VALIDAÇÃO\n",
      "MSE: 458.4454766238971\n",
      "RMSE: 21.41133990725235\n",
      "MAE: 17.039471571312205\n",
      "R2: 0.03992810824954407\n",
      "MAPE: 868.2412484475328\n"
     ]
    }
   ],
   "source": [
    "mse_valid = mean_squared_error(y_valid_1d, y_pred_valid)\n",
    "rmse_valid = np.sqrt(mse_valid)\n",
    "mae_valid = mean_absolute_error(y_valid_1d, y_pred_valid)\n",
    "r2_valid = r2_score(y_valid_1d, y_pred_valid)\n",
    "mape_valid = np.mean(np.abs((y_valid_1d - y_pred_valid) / y_valid_1d)) * 100\n",
    "\n",
    "print(\"\\nVALIDAÇÃO\")\n",
    "print(\"MSE:\", mse_valid)\n",
    "print(\"RMSE:\", rmse_valid)\n",
    "print(\"MAE:\", mae_valid)\n",
    "print(\"R2:\", r2_valid)\n",
    "print(\"MAPE:\", mape_valid)\n"
   ]
  },
  {
   "cell_type": "code",
   "execution_count": 6,
   "id": "d39912a0-9478-42ec-85e4-b46162665b42",
   "metadata": {},
   "outputs": [
    {
     "name": "stdout",
     "output_type": "stream",
     "text": [
      "\n",
      "TESTE\n",
      "MSE: 461.4311021585505\n",
      "RMSE: 21.480947422275175\n",
      "MAE: 17.12967803347856\n",
      "R2: 0.05231017186224862\n",
      "MAPE: 852.2815498102915\n"
     ]
    }
   ],
   "source": [
    "mse_teste = mean_squared_error(y_teste_1d, y_pred_teste)\n",
    "rmse_teste = np.sqrt(mse_teste)\n",
    "mae_teste = mean_absolute_error(y_teste_1d, y_pred_teste)\n",
    "r2_teste = r2_score(y_teste_1d, y_pred_teste)\n",
    "mape_teste = np.mean(np.abs((y_teste_1d - y_pred_teste) / y_teste_1d)) * 100\n",
    "\n",
    "print(\"\\nTESTE\")\n",
    "print(\"MSE:\", mse_teste)\n",
    "print(\"RMSE:\", rmse_teste)\n",
    "print(\"MAE:\", mae_teste)\n",
    "print(\"R2:\", r2_teste)\n",
    "print(\"MAPE:\", mape_teste)\n",
    "\n"
   ]
  },
  {
   "cell_type": "code",
   "execution_count": null,
   "id": "4bd0f284-30f5-4215-b60f-1bebef519a51",
   "metadata": {},
   "outputs": [],
   "source": []
  }
 ],
 "metadata": {
  "kernelspec": {
   "display_name": "Python 3 (ipykernel)",
   "language": "python",
   "name": "python3"
  },
  "language_info": {
   "codemirror_mode": {
    "name": "ipython",
    "version": 3
   },
   "file_extension": ".py",
   "mimetype": "text/x-python",
   "name": "python",
   "nbconvert_exporter": "python",
   "pygments_lexer": "ipython3",
   "version": "3.10.9"
  }
 },
 "nbformat": 4,
 "nbformat_minor": 5
}
