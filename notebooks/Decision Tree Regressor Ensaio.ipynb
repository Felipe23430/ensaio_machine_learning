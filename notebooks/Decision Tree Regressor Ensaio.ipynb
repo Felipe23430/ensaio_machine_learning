{
 "cells": [
  {
   "cell_type": "markdown",
   "id": "e97a9cc3-678a-4ea6-ab57-ace8c4238ae6",
   "metadata": {},
   "source": [
    "# Imports "
   ]
  },
  {
   "cell_type": "code",
   "execution_count": 11,
   "id": "b4f15806-3bf4-4ac3-9a00-55e8be4ec15a",
   "metadata": {},
   "outputs": [],
   "source": [
    "import pandas as pd\n",
    "from sklearn.tree import DecisionTreeRegressor\n",
    "from sklearn.metrics import mean_squared_error, mean_absolute_error, r2_score\n",
    "import numpy as np"
   ]
  },
  {
   "cell_type": "markdown",
   "id": "dac4cf07-adb5-49a8-a80d-ccb386bac3e1",
   "metadata": {},
   "source": [
    "# load Datasets"
   ]
  },
  {
   "cell_type": "code",
   "execution_count": 12,
   "id": "f47cccfd-980a-4232-8352-1d8cf1f4635f",
   "metadata": {},
   "outputs": [],
   "source": [
    "x_treino = pd.read_csv('C:/Users/Felipe/Documents/Repos/ML/X_training.csv')\n",
    "y_treino = pd.read_csv('C:/Users/Felipe/Documents/Repos/ML/y_training.csv')\n",
    "\n",
    "x_validacao = pd.read_csv('C:/Users/Felipe/Documents/Repos/ML/X_validation.csv')\n",
    "y_validacao = pd.read_csv('C:/Users/Felipe/Documents/Repos/ML/y_val.csv')\n",
    "\n",
    "x_teste = pd.read_csv('C:/Users/Felipe/Documents/Repos/ML/X_test.csv')\n",
    "y_teste = pd.read_csv('C:/Users/Felipe/Documents/Repos/ML/y_test.csv') "
   ]
  },
  {
   "cell_type": "markdown",
   "id": "7ea96431-179e-4c03-92cb-1c3a5c915643",
   "metadata": {},
   "source": [
    "# Treinamento "
   ]
  },
  {
   "cell_type": "code",
   "execution_count": 13,
   "id": "18d2f14c-7b9f-4834-b0bc-d8f228d3e7c4",
   "metadata": {},
   "outputs": [],
   "source": [
    " # Ajsutasr o Y em array\n",
    "y_treino_1d = y_treino.values.ravel() \n",
    "y_val_1d = y_validacao.values.ravel()\n",
    "y_teste_1d = y_teste.values.ravel()"
   ]
  },
  {
   "cell_type": "code",
   "execution_count": 56,
   "id": "c835e244-0020-469e-a3c7-260af0953d9d",
   "metadata": {},
   "outputs": [
    {
     "data": {
      "text/html": [
       "<style>#sk-container-id-17 {color: black;background-color: white;}#sk-container-id-17 pre{padding: 0;}#sk-container-id-17 div.sk-toggleable {background-color: white;}#sk-container-id-17 label.sk-toggleable__label {cursor: pointer;display: block;width: 100%;margin-bottom: 0;padding: 0.3em;box-sizing: border-box;text-align: center;}#sk-container-id-17 label.sk-toggleable__label-arrow:before {content: \"▸\";float: left;margin-right: 0.25em;color: #696969;}#sk-container-id-17 label.sk-toggleable__label-arrow:hover:before {color: black;}#sk-container-id-17 div.sk-estimator:hover label.sk-toggleable__label-arrow:before {color: black;}#sk-container-id-17 div.sk-toggleable__content {max-height: 0;max-width: 0;overflow: hidden;text-align: left;background-color: #f0f8ff;}#sk-container-id-17 div.sk-toggleable__content pre {margin: 0.2em;color: black;border-radius: 0.25em;background-color: #f0f8ff;}#sk-container-id-17 input.sk-toggleable__control:checked~div.sk-toggleable__content {max-height: 200px;max-width: 100%;overflow: auto;}#sk-container-id-17 input.sk-toggleable__control:checked~label.sk-toggleable__label-arrow:before {content: \"▾\";}#sk-container-id-17 div.sk-estimator input.sk-toggleable__control:checked~label.sk-toggleable__label {background-color: #d4ebff;}#sk-container-id-17 div.sk-label input.sk-toggleable__control:checked~label.sk-toggleable__label {background-color: #d4ebff;}#sk-container-id-17 input.sk-hidden--visually {border: 0;clip: rect(1px 1px 1px 1px);clip: rect(1px, 1px, 1px, 1px);height: 1px;margin: -1px;overflow: hidden;padding: 0;position: absolute;width: 1px;}#sk-container-id-17 div.sk-estimator {font-family: monospace;background-color: #f0f8ff;border: 1px dotted black;border-radius: 0.25em;box-sizing: border-box;margin-bottom: 0.5em;}#sk-container-id-17 div.sk-estimator:hover {background-color: #d4ebff;}#sk-container-id-17 div.sk-parallel-item::after {content: \"\";width: 100%;border-bottom: 1px solid gray;flex-grow: 1;}#sk-container-id-17 div.sk-label:hover label.sk-toggleable__label {background-color: #d4ebff;}#sk-container-id-17 div.sk-serial::before {content: \"\";position: absolute;border-left: 1px solid gray;box-sizing: border-box;top: 0;bottom: 0;left: 50%;z-index: 0;}#sk-container-id-17 div.sk-serial {display: flex;flex-direction: column;align-items: center;background-color: white;padding-right: 0.2em;padding-left: 0.2em;position: relative;}#sk-container-id-17 div.sk-item {position: relative;z-index: 1;}#sk-container-id-17 div.sk-parallel {display: flex;align-items: stretch;justify-content: center;background-color: white;position: relative;}#sk-container-id-17 div.sk-item::before, #sk-container-id-17 div.sk-parallel-item::before {content: \"\";position: absolute;border-left: 1px solid gray;box-sizing: border-box;top: 0;bottom: 0;left: 50%;z-index: -1;}#sk-container-id-17 div.sk-parallel-item {display: flex;flex-direction: column;z-index: 1;position: relative;background-color: white;}#sk-container-id-17 div.sk-parallel-item:first-child::after {align-self: flex-end;width: 50%;}#sk-container-id-17 div.sk-parallel-item:last-child::after {align-self: flex-start;width: 50%;}#sk-container-id-17 div.sk-parallel-item:only-child::after {width: 0;}#sk-container-id-17 div.sk-dashed-wrapped {border: 1px dashed gray;margin: 0 0.4em 0.5em 0.4em;box-sizing: border-box;padding-bottom: 0.4em;background-color: white;}#sk-container-id-17 div.sk-label label {font-family: monospace;font-weight: bold;display: inline-block;line-height: 1.2em;}#sk-container-id-17 div.sk-label-container {text-align: center;}#sk-container-id-17 div.sk-container {/* jupyter's `normalize.less` sets `[hidden] { display: none; }` but bootstrap.min.css set `[hidden] { display: none !important; }` so we also need the `!important` here to be able to override the default hidden behavior on the sphinx rendered scikit-learn.org. See: https://github.com/scikit-learn/scikit-learn/issues/21755 */display: inline-block !important;position: relative;}#sk-container-id-17 div.sk-text-repr-fallback {display: none;}</style><div id=\"sk-container-id-17\" class=\"sk-top-container\"><div class=\"sk-text-repr-fallback\"><pre>DecisionTreeRegressor(max_depth=5, random_state=42)</pre><b>In a Jupyter environment, please rerun this cell to show the HTML representation or trust the notebook. <br />On GitHub, the HTML representation is unable to render, please try loading this page with nbviewer.org.</b></div><div class=\"sk-container\" hidden><div class=\"sk-item\"><div class=\"sk-estimator sk-toggleable\"><input class=\"sk-toggleable__control sk-hidden--visually\" id=\"sk-estimator-id-17\" type=\"checkbox\" checked><label for=\"sk-estimator-id-17\" class=\"sk-toggleable__label sk-toggleable__label-arrow\">DecisionTreeRegressor</label><div class=\"sk-toggleable__content\"><pre>DecisionTreeRegressor(max_depth=5, random_state=42)</pre></div></div></div></div></div>"
      ],
      "text/plain": [
       "DecisionTreeRegressor(max_depth=5, random_state=42)"
      ]
     },
     "execution_count": 56,
     "metadata": {},
     "output_type": "execute_result"
    }
   ],
   "source": [
    "# Criar o modelo\n",
    "dt_reg = DecisionTreeRegressor(max_depth=5, random_state=42)\n",
    "\n",
    "# treinar o modelo\n",
    "dt_reg.fit(x_treino, y_treino_1d)"
   ]
  },
  {
   "cell_type": "code",
   "execution_count": 57,
   "id": "a549343f-1a4a-457e-a31c-083092b5a658",
   "metadata": {},
   "outputs": [],
   "source": [
    "# previsão do modelo\n",
    "\n",
    "y_pred_treino = dt_reg.predict(x_treino)\n",
    "y_pred_val = dt_reg.predict(x_validacao)\n",
    "y_pred_teste = dt_reg.predict(x_teste)"
   ]
  },
  {
   "cell_type": "code",
   "execution_count": 58,
   "id": "a72d61c6-e00c-44c8-bcfc-c6735bc02af4",
   "metadata": {},
   "outputs": [
    {
     "name": "stdout",
     "output_type": "stream",
     "text": [
      "MSE: 423.7472681811045\n",
      "RMSE: 20.585122496140375\n",
      "MAE: 16.368766312461418\n",
      "R2: 0.11352273212445407\n",
      "MAPE: 7.869536027810437\n"
     ]
    }
   ],
   "source": [
    "#TREINAMENTO\n",
    "mse_treino = mean_squared_error(y_treino_1d, y_pred_treino)\n",
    "print(f'MSE:', mse_treino)\n",
    "\n",
    "rmse_quadrado = np.sqrt(mse_treino)\n",
    "print(f'RMSE:', rmse_quadrado)\n",
    "\n",
    "mae_treino = mean_absolute_error(y_treino_1d, y_pred_treino)\n",
    "print(f'MAE:',mae_treino)\n",
    "\n",
    "r2_treino =  r2_score(y_treino_1d, y_pred_treino)\n",
    "print(f'R2:',r2_treino)\n",
    "\n",
    "mape = np.mean(np.abs((y_treino_1d - y_pred_treino) / y_treino_1d)) \n",
    "print(\"MAPE:\", mape)            "
   ]
  },
  {
   "cell_type": "code",
   "execution_count": 34,
   "id": "af3710a3-8896-42f1-a2f0-b4845050f2f6",
   "metadata": {},
   "outputs": [
    {
     "name": "stdout",
     "output_type": "stream",
     "text": [
      "MSE: 447.1613187611445\n",
      "RMSE: 21.146189225511637\n",
      "MAE: 16.843451865846717\n",
      "R2: 0.06355927779643322\n",
      "MAPE: 8.395778483246199\n"
     ]
    }
   ],
   "source": [
    "# Validacao\n",
    "mse_val= mean_squared_error(y_val_1d, y_pred_val)\n",
    "print(f'MSE:', mse_val)\n",
    "\n",
    "rmse_quadrado_val = np.sqrt(mse_val)\n",
    "print(f'RMSE:', rmse_quadrado_val)\n",
    "\n",
    "mae_validacao = mean_absolute_error(y_val_1d, y_pred_val)\n",
    "print(f'MAE:',mae_validacao)\n",
    "\n",
    "r2_val =  r2_score(y_val_1d, y_pred_val)\n",
    "print(f'R2:',r2_val)\n",
    "\n",
    "mape = np.mean(np.abs((y_val_1d - y_pred_val) / y_val_1d)) \n",
    "print(\"MAPE:\", mape) "
   ]
  },
  {
   "cell_type": "code",
   "execution_count": 35,
   "id": "5a214eff-d6de-4b60-830c-34b7170fe84f",
   "metadata": {},
   "outputs": [
    {
     "name": "stdout",
     "output_type": "stream",
     "text": [
      "MSE: 451.7557892724257\n",
      "RMSE: 21.254547496298898\n",
      "MAE: 17.010756733330503\n",
      "R2: 0.06355927779643322\n",
      "MAPE: 7.833952251913887\n"
     ]
    }
   ],
   "source": [
    "# teste\n",
    "mse_teste= mean_squared_error(y_teste_1d, y_pred_teste)\n",
    "print(f'MSE:', mse_teste)\n",
    "\n",
    "rmse_quadrado_teste = np.sqrt(mse_teste)\n",
    "print(f'RMSE:', rmse_quadrado_teste)\n",
    "\n",
    "mae_teste = mean_absolute_error(y_teste_1d, y_pred_teste)\n",
    "print(f'MAE:',mae_teste)\n",
    "\n",
    "r2_teste =  r2_score(y_teste_1d, y_pred_teste)\n",
    "print(f'R2:',r2_val)\n",
    "\n",
    "mape = np.mean(np.abs((y_teste_1d - y_pred_teste) / y_teste_1d)) \n",
    "print(\"MAPE:\", mape) "
   ]
  },
  {
   "cell_type": "code",
   "execution_count": null,
   "id": "55b2304e-b958-438e-992d-68bbe4f71b11",
   "metadata": {},
   "outputs": [],
   "source": []
  }
 ],
 "metadata": {
  "kernelspec": {
   "display_name": "Python 3 (ipykernel)",
   "language": "python",
   "name": "python3"
  },
  "language_info": {
   "codemirror_mode": {
    "name": "ipython",
    "version": 3
   },
   "file_extension": ".py",
   "mimetype": "text/x-python",
   "name": "python",
   "nbconvert_exporter": "python",
   "pygments_lexer": "ipython3",
   "version": "3.10.9"
  }
 },
 "nbformat": 4,
 "nbformat_minor": 5
}
