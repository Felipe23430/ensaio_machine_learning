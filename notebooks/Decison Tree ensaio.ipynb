{
 "cells": [
  {
   "cell_type": "markdown",
   "id": "d7c5c71a-b5e1-481f-81ce-a7022080cd1d",
   "metadata": {},
   "source": [
    "# 1.0 Imports\n"
   ]
  },
  {
   "cell_type": "code",
   "execution_count": 1,
   "id": "db37bebb-7a3c-42a6-aa1d-aca33edfcd29",
   "metadata": {},
   "outputs": [],
   "source": [
    "import pandas as pd \n",
    "from sklearn.metrics  import accuracy_score, precision_score, f1_score, recall_score\n",
    "from sklearn.tree import DecisionTreeClassifier\n",
    "import matplotlib.pyplot as plt"
   ]
  },
  {
   "cell_type": "markdown",
   "id": "9cc4cefd-88b5-43fb-b4bd-0b3e26aa8258",
   "metadata": {},
   "source": [
    "# 2.0 Load datasets"
   ]
  },
  {
   "cell_type": "code",
   "execution_count": 2,
   "id": "7b4ec811-75e6-4091-a1c0-2458f904ffa6",
   "metadata": {},
   "outputs": [],
   "source": [
    "x_treino = pd.read_csv('C:/Users/Felipe/Documents/Repos/ML/x_treino.csv')\n",
    "y_treino = pd.read_csv('C:/Users/Felipe/Documents/Repos/ML/y_treino.csv')\n",
    "\n",
    "x_validacao = pd.read_csv('C:/Users/Felipe/Documents/Repos/ML/x_validation.csv')\n",
    "y_validacao = pd.read_csv('C:/Users/Felipe/Documents/Repos/ML/y_validation.csv')\n",
    "\n",
    "x_teste = pd.read_csv('C:/Users/Felipe/Documents/Repos/ML/x_test.csv')\n",
    "y_teste = pd.read_csv('C:/Users/Felipe/Documents/Repos/ML/y_test.csv') "
   ]
  },
  {
   "cell_type": "markdown",
   "id": "a2871d41-2f03-4c8f-b28a-3514aabde213",
   "metadata": {
    "jp-MarkdownHeadingCollapsed": true
   },
   "source": [
    "# 3.0 Treinamento melhor método "
   ]
  },
  {
   "cell_type": "code",
   "execution_count": null,
   "id": "905aae0c-f788-4398-a372-905b45c6e8ba",
   "metadata": {},
   "outputs": [],
   "source": [
    "#y_treino_1d = y_treino.values.ravel()\n",
    "#y_validacao_1d = y_validacao.values.ravel()\n",
    "#y_teste_1d = y_teste.values.ravel()\n",
    "\n",
    "# ==========================\n",
    "# TESTE DE DIFERENTES PROFUNDIDADES\n",
    "# ==========================\n",
    "#depths = range(1, 21)  # max_depth de 1 a 20\n",
    "#accuracy_scores = []\n",
    "#f1_scores = []\n",
    "\n",
    "#for d in depths:\n",
    "#    dt = DecisionTreeClassifier(max_depth=d, random_state=42)\n",
    "#    dt.fit(x_treino, y_treino_1d)\n",
    "    \n",
    "#    y_pred_val = dt.predict(x_validacao)\n",
    "    \n",
    "#    acc = accuracy_score(y_validacao_1d, y_pred_val)\n",
    "#    f1 = f1_score(y_validacao_1d, y_pred_val)\n",
    "    \n",
    "#    accuracy_scores.append(acc)\n",
    "#    f1_scores.append(f1)\n",
    "    \n",
    "#    print(f\"max_depth={d}: Acurácia={acc:.4f}, F1={f1:.4f}\")\n",
    "\n",
    "# Melhor max_depth pelo F1\n",
    "#best_depth = depths[f1_scores.index(max(f1_scores))]\n",
    "#print(f\"\\n>>> Melhor max_depth: {best_depth} (F1={max(f1_scores):.4f})\")\n",
    "\n",
    "# ==========================\n",
    "# PLOTANDO RESULTADOS\n",
    "# ==========================\n",
    "#plt.figure(figsize=(8,5))\n",
    "#plt.plot(depths, accuracy_scores, marker='o', label='Acurácia')\n",
    "#plt.plot(depths, f1_scores, marker='s', label='F1-score')\n",
    "#plt.xlabel('max_depth')\n",
    "#plt.ylabel('Score')\n",
    "#plt.title('Desempenho da Decision Tree para diferentes profundidades')\n",
    "#plt.legend()\n",
    "#plt.grid(True)\n",
    "#plt.show()"
   ]
  },
  {
   "cell_type": "markdown",
   "id": "ddb5be13-0eef-4f09-97ba-4ef7d055e552",
   "metadata": {},
   "source": [
    "# 3.1 treinamento de verdade "
   ]
  },
  {
   "cell_type": "code",
   "execution_count": 3,
   "id": "8d2d5e20-8289-4844-b66f-256767cd5cdb",
   "metadata": {},
   "outputs": [],
   "source": [
    "# ajustar os vetores\n",
    "y_treino_1d = y_treino.values.ravel()\n",
    "y_val_1d =    y_validacao.values.ravel()\n",
    "y_teste_1d =  y_teste.values.ravel()"
   ]
  },
  {
   "cell_type": "code",
   "execution_count": 5,
   "id": "34d314ec-e7f3-43c1-96ff-2aba4e3680b5",
   "metadata": {},
   "outputs": [
    {
     "data": {
      "text/html": [
       "<style>#sk-container-id-1 {color: black;background-color: white;}#sk-container-id-1 pre{padding: 0;}#sk-container-id-1 div.sk-toggleable {background-color: white;}#sk-container-id-1 label.sk-toggleable__label {cursor: pointer;display: block;width: 100%;margin-bottom: 0;padding: 0.3em;box-sizing: border-box;text-align: center;}#sk-container-id-1 label.sk-toggleable__label-arrow:before {content: \"▸\";float: left;margin-right: 0.25em;color: #696969;}#sk-container-id-1 label.sk-toggleable__label-arrow:hover:before {color: black;}#sk-container-id-1 div.sk-estimator:hover label.sk-toggleable__label-arrow:before {color: black;}#sk-container-id-1 div.sk-toggleable__content {max-height: 0;max-width: 0;overflow: hidden;text-align: left;background-color: #f0f8ff;}#sk-container-id-1 div.sk-toggleable__content pre {margin: 0.2em;color: black;border-radius: 0.25em;background-color: #f0f8ff;}#sk-container-id-1 input.sk-toggleable__control:checked~div.sk-toggleable__content {max-height: 200px;max-width: 100%;overflow: auto;}#sk-container-id-1 input.sk-toggleable__control:checked~label.sk-toggleable__label-arrow:before {content: \"▾\";}#sk-container-id-1 div.sk-estimator input.sk-toggleable__control:checked~label.sk-toggleable__label {background-color: #d4ebff;}#sk-container-id-1 div.sk-label input.sk-toggleable__control:checked~label.sk-toggleable__label {background-color: #d4ebff;}#sk-container-id-1 input.sk-hidden--visually {border: 0;clip: rect(1px 1px 1px 1px);clip: rect(1px, 1px, 1px, 1px);height: 1px;margin: -1px;overflow: hidden;padding: 0;position: absolute;width: 1px;}#sk-container-id-1 div.sk-estimator {font-family: monospace;background-color: #f0f8ff;border: 1px dotted black;border-radius: 0.25em;box-sizing: border-box;margin-bottom: 0.5em;}#sk-container-id-1 div.sk-estimator:hover {background-color: #d4ebff;}#sk-container-id-1 div.sk-parallel-item::after {content: \"\";width: 100%;border-bottom: 1px solid gray;flex-grow: 1;}#sk-container-id-1 div.sk-label:hover label.sk-toggleable__label {background-color: #d4ebff;}#sk-container-id-1 div.sk-serial::before {content: \"\";position: absolute;border-left: 1px solid gray;box-sizing: border-box;top: 0;bottom: 0;left: 50%;z-index: 0;}#sk-container-id-1 div.sk-serial {display: flex;flex-direction: column;align-items: center;background-color: white;padding-right: 0.2em;padding-left: 0.2em;position: relative;}#sk-container-id-1 div.sk-item {position: relative;z-index: 1;}#sk-container-id-1 div.sk-parallel {display: flex;align-items: stretch;justify-content: center;background-color: white;position: relative;}#sk-container-id-1 div.sk-item::before, #sk-container-id-1 div.sk-parallel-item::before {content: \"\";position: absolute;border-left: 1px solid gray;box-sizing: border-box;top: 0;bottom: 0;left: 50%;z-index: -1;}#sk-container-id-1 div.sk-parallel-item {display: flex;flex-direction: column;z-index: 1;position: relative;background-color: white;}#sk-container-id-1 div.sk-parallel-item:first-child::after {align-self: flex-end;width: 50%;}#sk-container-id-1 div.sk-parallel-item:last-child::after {align-self: flex-start;width: 50%;}#sk-container-id-1 div.sk-parallel-item:only-child::after {width: 0;}#sk-container-id-1 div.sk-dashed-wrapped {border: 1px dashed gray;margin: 0 0.4em 0.5em 0.4em;box-sizing: border-box;padding-bottom: 0.4em;background-color: white;}#sk-container-id-1 div.sk-label label {font-family: monospace;font-weight: bold;display: inline-block;line-height: 1.2em;}#sk-container-id-1 div.sk-label-container {text-align: center;}#sk-container-id-1 div.sk-container {/* jupyter's `normalize.less` sets `[hidden] { display: none; }` but bootstrap.min.css set `[hidden] { display: none !important; }` so we also need the `!important` here to be able to override the default hidden behavior on the sphinx rendered scikit-learn.org. See: https://github.com/scikit-learn/scikit-learn/issues/21755 */display: inline-block !important;position: relative;}#sk-container-id-1 div.sk-text-repr-fallback {display: none;}</style><div id=\"sk-container-id-1\" class=\"sk-top-container\"><div class=\"sk-text-repr-fallback\"><pre>DecisionTreeClassifier(max_depth=12, random_state=42)</pre><b>In a Jupyter environment, please rerun this cell to show the HTML representation or trust the notebook. <br />On GitHub, the HTML representation is unable to render, please try loading this page with nbviewer.org.</b></div><div class=\"sk-container\" hidden><div class=\"sk-item\"><div class=\"sk-estimator sk-toggleable\"><input class=\"sk-toggleable__control sk-hidden--visually\" id=\"sk-estimator-id-1\" type=\"checkbox\" checked><label for=\"sk-estimator-id-1\" class=\"sk-toggleable__label sk-toggleable__label-arrow\">DecisionTreeClassifier</label><div class=\"sk-toggleable__content\"><pre>DecisionTreeClassifier(max_depth=12, random_state=42)</pre></div></div></div></div></div>"
      ],
      "text/plain": [
       "DecisionTreeClassifier(max_depth=12, random_state=42)"
      ]
     },
     "execution_count": 5,
     "metadata": {},
     "output_type": "execute_result"
    }
   ],
   "source": [
    "# MODELO DECISION TREE (max_depth=12)\n",
    "\n",
    "dt = DecisionTreeClassifier(max_depth=12, random_state=42)\n",
    "dt.fit(x_treino, y_treino_1d)\n",
    "\n"
   ]
  },
  {
   "cell_type": "code",
   "execution_count": 13,
   "id": "d2e7220b-24e8-47e6-9fb1-cd5211aee4d3",
   "metadata": {},
   "outputs": [],
   "source": [
    "# previsções\n",
    "y_pred_treino_dt = dt.predict(x_treino)\n",
    "y_pred_val_dt = dt.predict(x_validacao)\n",
    "y_pred_test_dt = dt.predict(x_teste)"
   ]
  },
  {
   "cell_type": "code",
   "execution_count": 7,
   "id": "1b5c9cde-a021-4b35-8037-7f2594a830b1",
   "metadata": {},
   "outputs": [
    {
     "data": {
      "text/plain": [
       "(25893,)"
      ]
     },
     "execution_count": 7,
     "metadata": {},
     "output_type": "execute_result"
    }
   ],
   "source": [
    "y_pred_val_dt.shape"
   ]
  },
  {
   "cell_type": "code",
   "execution_count": 11,
   "id": "893f4b4f-fbaa-4db4-b0d5-2c816c0e1237",
   "metadata": {},
   "outputs": [
    {
     "name": "stdout",
     "output_type": "stream",
     "text": [
      "Acuracia:  0.9664069502861476\n",
      "Precisao:  0.9768734785183236\n",
      "Recall:  0.9448580883288787\n",
      "F1 score: 0.9605991007019701\n"
     ]
    }
   ],
   "source": [
    "# MÉTRICAS TREINAMENTO\n",
    "\n",
    "print('Acuracia: ', accuracy_score(y_treino_1d, y_pred_treino_dt))\n",
    "print('Precisao: ', precision_score(y_treino_1d, y_pred_treino_dt))\n",
    "print('Recall: '  , recall_score(y_treino_1d, y_pred_treino_dt))\n",
    "print('F1 score:' , f1_score(y_treino_1d, y_pred_treino_dt))"
   ]
  },
  {
   "cell_type": "code",
   "execution_count": 10,
   "id": "232b2de3-3f3c-4303-a46f-3501b7e85b45",
   "metadata": {},
   "outputs": [
    {
     "name": "stdout",
     "output_type": "stream",
     "text": [
      "Acuracia:  0.9515750185012388\n",
      "Precisao:  0.9579696830500689\n",
      "Recall:  0.9290221991239141\n",
      "F1 score:  0.9432739059967585\n"
     ]
    }
   ],
   "source": [
    "# MÉTRICAS validacao\n",
    "\n",
    "print('Acuracia: ', accuracy_score(y_val_1d, y_pred_val_dt))\n",
    "print('Precisao: ', precision_score(y_val_1d, y_pred_val_dt))\n",
    "print('Recall: ' , recall_score(y_val_1d, y_pred_val_dt))\n",
    "print('F1 score: ' , f1_score(y_val_1d, y_pred_val_dt))\n"
   ]
  },
  {
   "cell_type": "code",
   "execution_count": 15,
   "id": "d2caa049-1378-4323-a9d0-14f09b947ba8",
   "metadata": {},
   "outputs": [
    {
     "name": "stdout",
     "output_type": "stream",
     "text": [
      "Acuracia:  0.9499092418800448\n",
      "Precisao:  0.9569716775599129\n",
      "Recall:  0.9275846898372195\n",
      "F1_score: 0.9420490594700862\n"
     ]
    }
   ],
   "source": [
    "# MÉTRICAS teste\n",
    "print('Acuracia: ', accuracy_score(y_teste_1d, y_pred_test_dt))\n",
    "print('Precisao: ', precision_score(y_teste_1d, y_pred_test_dt))\n",
    "print('Recall: ', recall_score(y_teste_1d, y_pred_test_dt))\n",
    "print('F1_score:', f1_score(y_teste_1d, y_pred_test_dt))\n"
   ]
  },
  {
   "cell_type": "code",
   "execution_count": null,
   "id": "4aeab847-2275-47f9-9dbd-91af2ae2efd9",
   "metadata": {},
   "outputs": [],
   "source": []
  }
 ],
 "metadata": {
  "kernelspec": {
   "display_name": "Python 3 (ipykernel)",
   "language": "python",
   "name": "python3"
  },
  "language_info": {
   "codemirror_mode": {
    "name": "ipython",
    "version": 3
   },
   "file_extension": ".py",
   "mimetype": "text/x-python",
   "name": "python",
   "nbconvert_exporter": "python",
   "pygments_lexer": "ipython3",
   "version": "3.10.9"
  }
 },
 "nbformat": 4,
 "nbformat_minor": 5
}
