{
 "cells": [
  {
   "cell_type": "markdown",
   "id": "663a5fd5-14f3-4a97-9901-da6c0281082b",
   "metadata": {},
   "source": [
    "# imports"
   ]
  },
  {
   "cell_type": "code",
   "execution_count": 8,
   "id": "365d109d-e118-4d78-823c-075255a9dc01",
   "metadata": {},
   "outputs": [],
   "source": [
    "import pandas as pd\n",
    "import numpy as np\n",
    "from sklearn.linear_model import Ridge\n",
    "from sklearn.preprocessing import PolynomialFeatures\n",
    "from sklearn.metrics import mean_squared_error, mean_absolute_error, r2_score\n"
   ]
  },
  {
   "cell_type": "markdown",
   "id": "223a81c8-5a98-4545-ac2a-ed3832b1f2b6",
   "metadata": {},
   "source": [
    "# Load Dataset"
   ]
  },
  {
   "cell_type": "code",
   "execution_count": 9,
   "id": "29f835b2-c341-465b-bfd6-3d3723f32ab7",
   "metadata": {},
   "outputs": [],
   "source": [
    "x_treino = pd.read_csv('C:/Users/Felipe/Documents/Repos/ML/X_training.csv')\n",
    "y_treino = pd.read_csv('C:/Users/Felipe/Documents/Repos/ML/y_training.csv')\n",
    "\n",
    "x_validacao = pd.read_csv('C:/Users/Felipe/Documents/Repos/ML/X_validation.csv')\n",
    "y_validacao = pd.read_csv('C:/Users/Felipe/Documents/Repos/ML/y_val.csv')\n",
    "\n",
    "x_teste = pd.read_csv('C:/Users/Felipe/Documents/Repos/ML/X_test.csv')\n",
    "y_teste = pd.read_csv('C:/Users/Felipe/Documents/Repos/ML/y_test.csv')"
   ]
  },
  {
   "cell_type": "code",
   "execution_count": 10,
   "id": "f721c2aa-79fb-4e67-952c-c6466bc3ff9c",
   "metadata": {},
   "outputs": [],
   "source": [
    "# tranfor os y em aray\n",
    "\n",
    "y_treino_1d = y_treino.values.ravel()\n",
    "y_valid_1d = y_validacao.values.ravel()\n",
    "y_teste_1d = y_teste.values.ravel()"
   ]
  },
  {
   "cell_type": "markdown",
   "id": "87f6ca5e-7641-49cc-a6a4-06213f969c5d",
   "metadata": {},
   "source": [
    "# Treinamento\n"
   ]
  },
  {
   "cell_type": "code",
   "execution_count": 12,
   "id": "b6e76b4a-8b00-4035-9c6f-2b44d506f96f",
   "metadata": {},
   "outputs": [],
   "source": [
    "# transformação Polinomial (com degree)\n",
    "degree = 2\n",
    "poly = PolynomialFeatures(degree=degree)\n",
    "\n",
    "x_treino_poly = poly.fit_transform(x_treino)\n",
    "x_valid_poly = poly.transform(x_validacao)\n",
    "x_teste_poly = poly.transform(x_teste)\n",
    "\n"
   ]
  },
  {
   "cell_type": "code",
   "execution_count": 14,
   "id": "1baee193-7797-4dc3-8a69-e45a95774170",
   "metadata": {},
   "outputs": [
    {
     "data": {
      "text/html": [
       "<style>#sk-container-id-1 {color: black;background-color: white;}#sk-container-id-1 pre{padding: 0;}#sk-container-id-1 div.sk-toggleable {background-color: white;}#sk-container-id-1 label.sk-toggleable__label {cursor: pointer;display: block;width: 100%;margin-bottom: 0;padding: 0.3em;box-sizing: border-box;text-align: center;}#sk-container-id-1 label.sk-toggleable__label-arrow:before {content: \"▸\";float: left;margin-right: 0.25em;color: #696969;}#sk-container-id-1 label.sk-toggleable__label-arrow:hover:before {color: black;}#sk-container-id-1 div.sk-estimator:hover label.sk-toggleable__label-arrow:before {color: black;}#sk-container-id-1 div.sk-toggleable__content {max-height: 0;max-width: 0;overflow: hidden;text-align: left;background-color: #f0f8ff;}#sk-container-id-1 div.sk-toggleable__content pre {margin: 0.2em;color: black;border-radius: 0.25em;background-color: #f0f8ff;}#sk-container-id-1 input.sk-toggleable__control:checked~div.sk-toggleable__content {max-height: 200px;max-width: 100%;overflow: auto;}#sk-container-id-1 input.sk-toggleable__control:checked~label.sk-toggleable__label-arrow:before {content: \"▾\";}#sk-container-id-1 div.sk-estimator input.sk-toggleable__control:checked~label.sk-toggleable__label {background-color: #d4ebff;}#sk-container-id-1 div.sk-label input.sk-toggleable__control:checked~label.sk-toggleable__label {background-color: #d4ebff;}#sk-container-id-1 input.sk-hidden--visually {border: 0;clip: rect(1px 1px 1px 1px);clip: rect(1px, 1px, 1px, 1px);height: 1px;margin: -1px;overflow: hidden;padding: 0;position: absolute;width: 1px;}#sk-container-id-1 div.sk-estimator {font-family: monospace;background-color: #f0f8ff;border: 1px dotted black;border-radius: 0.25em;box-sizing: border-box;margin-bottom: 0.5em;}#sk-container-id-1 div.sk-estimator:hover {background-color: #d4ebff;}#sk-container-id-1 div.sk-parallel-item::after {content: \"\";width: 100%;border-bottom: 1px solid gray;flex-grow: 1;}#sk-container-id-1 div.sk-label:hover label.sk-toggleable__label {background-color: #d4ebff;}#sk-container-id-1 div.sk-serial::before {content: \"\";position: absolute;border-left: 1px solid gray;box-sizing: border-box;top: 0;bottom: 0;left: 50%;z-index: 0;}#sk-container-id-1 div.sk-serial {display: flex;flex-direction: column;align-items: center;background-color: white;padding-right: 0.2em;padding-left: 0.2em;position: relative;}#sk-container-id-1 div.sk-item {position: relative;z-index: 1;}#sk-container-id-1 div.sk-parallel {display: flex;align-items: stretch;justify-content: center;background-color: white;position: relative;}#sk-container-id-1 div.sk-item::before, #sk-container-id-1 div.sk-parallel-item::before {content: \"\";position: absolute;border-left: 1px solid gray;box-sizing: border-box;top: 0;bottom: 0;left: 50%;z-index: -1;}#sk-container-id-1 div.sk-parallel-item {display: flex;flex-direction: column;z-index: 1;position: relative;background-color: white;}#sk-container-id-1 div.sk-parallel-item:first-child::after {align-self: flex-end;width: 50%;}#sk-container-id-1 div.sk-parallel-item:last-child::after {align-self: flex-start;width: 50%;}#sk-container-id-1 div.sk-parallel-item:only-child::after {width: 0;}#sk-container-id-1 div.sk-dashed-wrapped {border: 1px dashed gray;margin: 0 0.4em 0.5em 0.4em;box-sizing: border-box;padding-bottom: 0.4em;background-color: white;}#sk-container-id-1 div.sk-label label {font-family: monospace;font-weight: bold;display: inline-block;line-height: 1.2em;}#sk-container-id-1 div.sk-label-container {text-align: center;}#sk-container-id-1 div.sk-container {/* jupyter's `normalize.less` sets `[hidden] { display: none; }` but bootstrap.min.css set `[hidden] { display: none !important; }` so we also need the `!important` here to be able to override the default hidden behavior on the sphinx rendered scikit-learn.org. See: https://github.com/scikit-learn/scikit-learn/issues/21755 */display: inline-block !important;position: relative;}#sk-container-id-1 div.sk-text-repr-fallback {display: none;}</style><div id=\"sk-container-id-1\" class=\"sk-top-container\"><div class=\"sk-text-repr-fallback\"><pre>Ridge(max_iter=10000)</pre><b>In a Jupyter environment, please rerun this cell to show the HTML representation or trust the notebook. <br />On GitHub, the HTML representation is unable to render, please try loading this page with nbviewer.org.</b></div><div class=\"sk-container\" hidden><div class=\"sk-item\"><div class=\"sk-estimator sk-toggleable\"><input class=\"sk-toggleable__control sk-hidden--visually\" id=\"sk-estimator-id-1\" type=\"checkbox\" checked><label for=\"sk-estimator-id-1\" class=\"sk-toggleable__label sk-toggleable__label-arrow\">Ridge</label><div class=\"sk-toggleable__content\"><pre>Ridge(max_iter=10000)</pre></div></div></div></div></div>"
      ],
      "text/plain": [
       "Ridge(max_iter=10000)"
      ]
     },
     "execution_count": 14,
     "metadata": {},
     "output_type": "execute_result"
    }
   ],
   "source": [
    "#  Treinamento do modelo Ridge\n",
    "\n",
    "alpha = 1.0\n",
    "max_iter = 10000\n",
    "\n",
    "modelo = Ridge(alpha=alpha,  max_iter=max_iter)\n",
    "modelo.fit(x_treino_poly, y_treino_1d)\n"
   ]
  },
  {
   "cell_type": "code",
   "execution_count": 17,
   "id": "de8f6e56-977d-4d68-8f17-aa0d96359229",
   "metadata": {},
   "outputs": [],
   "source": [
    "# Previsões\n",
    "y_pred_treino = modelo.predict(x_treino_poly)\n",
    "y_pred_valid = modelo.predict(x_valid_poly)\n",
    "y_pred_teste = modelo.predict(x_teste_poly)"
   ]
  },
  {
   "cell_type": "code",
   "execution_count": 18,
   "id": "04facb6e-c3e7-4f2c-89c1-cf128673c087",
   "metadata": {},
   "outputs": [
    {
     "name": "stdout",
     "output_type": "stream",
     "text": [
      "TREINAMENTO\n",
      "MSE: 433.47545690992814\n",
      "RMSE: 20.820073412693052\n",
      "MAE: 16.47197183768651\n",
      "R2: 0.0931714076127419\n",
      "MAPE: 837.2689165744582\n"
     ]
    }
   ],
   "source": [
    "#  Treinamento\n",
    "mse_treino = mean_squared_error(y_treino_1d, y_pred_treino)\n",
    "rmse_treino = np.sqrt(mse_treino)\n",
    "mae_treino = mean_absolute_error(y_treino_1d, y_pred_treino)\n",
    "r2_treino = r2_score(y_treino_1d, y_pred_treino)\n",
    "mape_treino = np.mean(np.abs((y_treino_1d - y_pred_treino) / y_treino_1d)) * 100\n",
    "\n",
    "print(\"TREINAMENTO\")\n",
    "print(\"MSE:\", mse_treino)\n",
    "print(\"RMSE:\", rmse_treino)\n",
    "print(\"MAE:\", mae_treino)\n",
    "print(\"R2:\", r2_treino)\n",
    "print(\"MAPE:\", mape_treino)\n"
   ]
  },
  {
   "cell_type": "code",
   "execution_count": 19,
   "id": "42e55cc4-3db0-4c6f-82cb-16b22194522c",
   "metadata": {},
   "outputs": [
    {
     "name": "stdout",
     "output_type": "stream",
     "text": [
      "\n",
      "VALIDAÇÃO\n",
      "MSE: 445.1844102437546\n",
      "RMSE: 21.099393598958113\n",
      "MAE: 16.73874061169026\n",
      "R2: 0.0676992996679221\n",
      "MAPE: 856.8992470935431\n"
     ]
    }
   ],
   "source": [
    "# Validação\n",
    "mse_valid = mean_squared_error(y_valid_1d, y_pred_valid)\n",
    "rmse_valid = np.sqrt(mse_valid)\n",
    "mae_valid = mean_absolute_error(y_valid_1d, y_pred_valid)\n",
    "r2_valid = r2_score(y_valid_1d, y_pred_valid)\n",
    "mape_valid = np.mean(np.abs((y_valid_1d - y_pred_valid) / y_valid_1d)) * 100\n",
    "\n",
    "print(\"\\nVALIDAÇÃO\")\n",
    "print(\"MSE:\", mse_valid)\n",
    "print(\"RMSE:\", rmse_valid)\n",
    "print(\"MAE:\", mae_valid)\n",
    "print(\"R2:\", r2_valid)\n",
    "print(\"MAPE:\", mape_valid)"
   ]
  },
  {
   "cell_type": "code",
   "execution_count": 21,
   "id": "e0417f62-6021-42e7-b335-6b054177e717",
   "metadata": {},
   "outputs": [
    {
     "name": "stdout",
     "output_type": "stream",
     "text": [
      "\n",
      "TESTE\n",
      "MSE: 443.4852996116432\n",
      "RMSE: 21.059090664405318\n",
      "MAE: 16.728878813016276\n",
      "R2: 0.08916736343844378\n",
      "MAPE: 828.8682480960881\n"
     ]
    }
   ],
   "source": [
    "# teste\n",
    "\n",
    "mse_teste = mean_squared_error(y_teste_1d, y_pred_teste)\n",
    "rmse_teste = np.sqrt(mse_teste)\n",
    "mae_teste = mean_absolute_error(y_teste_1d, y_pred_teste)\n",
    "r2_teste = r2_score(y_teste_1d, y_pred_teste)\n",
    "mape_teste = np.mean(np.abs((y_teste_1d - y_pred_teste) / y_teste_1d)) * 100\n",
    "\n",
    "print(\"\\nTESTE\")\n",
    "print(\"MSE:\", mse_teste)\n",
    "print(\"RMSE:\", rmse_teste)\n",
    "print(\"MAE:\", mae_teste)\n",
    "print(\"R2:\", r2_teste)\n",
    "print(\"MAPE:\", mape_teste)\n"
   ]
  },
  {
   "cell_type": "code",
   "execution_count": null,
   "id": "7e82edb3-5fd9-4e8d-9602-77b3c44ed8a8",
   "metadata": {},
   "outputs": [],
   "source": []
  },
  {
   "cell_type": "code",
   "execution_count": null,
   "id": "4a6e7394-7441-4c56-adaf-c35558d2843a",
   "metadata": {},
   "outputs": [],
   "source": []
  }
 ],
 "metadata": {
  "kernelspec": {
   "display_name": "Python 3 (ipykernel)",
   "language": "python",
   "name": "python3"
  },
  "language_info": {
   "codemirror_mode": {
    "name": "ipython",
    "version": 3
   },
   "file_extension": ".py",
   "mimetype": "text/x-python",
   "name": "python",
   "nbconvert_exporter": "python",
   "pygments_lexer": "ipython3",
   "version": "3.10.9"
  }
 },
 "nbformat": 4,
 "nbformat_minor": 5
}
