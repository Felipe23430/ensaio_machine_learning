{
 "cells": [
  {
   "cell_type": "code",
   "execution_count": 5,
   "id": "b746cec4-7216-4330-a518-b7e92f20a2b2",
   "metadata": {},
   "outputs": [
    {
     "name": "stdout",
     "output_type": "stream",
     "text": [
      "Average Silhouette Score (Affinity Propagation): 0.0972\n",
      "Número de clusters encontrados: 17\n"
     ]
    }
   ],
   "source": [
    "import pandas as pd\n",
    "from sklearn.preprocessing import StandardScaler\n",
    "from sklearn.cluster import AffinityPropagation\n",
    "from sklearn.metrics import silhouette_score\n",
    "\n",
    "# === 1. Carregar os dados ===\n",
    "dados = pd.read_csv(\"C:/Users/Felipe/Documents/Repos/ML/X_dataset.csv\")\n",
    "\n",
    "\n",
    "# === 3. Aplicar Affinity Propagation ===\n",
    "ap = AffinityPropagation(random_state=5)\n",
    "ap.fit(dados)\n",
    "\n",
    "# === 4. Obter os rótulos dos clusters ===\n",
    "labels = ap.labels_\n",
    "\n",
    "# === 5. Calcular o Average Silhouette Score ===\n",
    "if len(set(labels)) > 1:\n",
    "    silhouette_avg = silhouette_score(dados_norm, labels)\n",
    "    print(f\"Average Silhouette Score (Affinity Propagation): {silhouette_avg:.4f}\")\n",
    "    print(f\"Número de clusters encontrados: {len(set(labels))}\")\n",
    "else:\n",
    "    print(\"Affinity Propagation encontrou apenas um cluster. Silhouette Score não é definido.\")"
   ]
  },
  {
   "cell_type": "code",
   "execution_count": 8,
   "id": "4a779fca-17aa-48ea-92cc-44b410305025",
   "metadata": {},
   "outputs": [
    {
     "name": "stdout",
     "output_type": "stream",
     "text": [
      "Python 3.10.9\n"
     ]
    }
   ],
   "source": [
    "!python --version\n"
   ]
  },
  {
   "cell_type": "code",
   "execution_count": null,
   "id": "3468644b-7c44-4f00-84e8-3dd4296d4f01",
   "metadata": {},
   "outputs": [],
   "source": []
  }
 ],
 "metadata": {
  "kernelspec": {
   "display_name": "Python 3 (ipykernel)",
   "language": "python",
   "name": "python3"
  },
  "language_info": {
   "codemirror_mode": {
    "name": "ipython",
    "version": 3
   },
   "file_extension": ".py",
   "mimetype": "text/x-python",
   "name": "python",
   "nbconvert_exporter": "python",
   "pygments_lexer": "ipython3",
   "version": "3.10.9"
  }
 },
 "nbformat": 4,
 "nbformat_minor": 5
}
