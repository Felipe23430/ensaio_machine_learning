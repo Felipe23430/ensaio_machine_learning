{
 "cells": [
  {
   "cell_type": "markdown",
   "id": "5fc38bf8-ee74-4b6f-8b17-55a9d7a20508",
   "metadata": {},
   "source": [
    "# Imports"
   ]
  },
  {
   "cell_type": "code",
   "execution_count": 4,
   "id": "55dc795a-6082-42cd-ae7f-2f8507c7cd21",
   "metadata": {},
   "outputs": [],
   "source": [
    "import pandas as pd\n",
    "import numpy as np\n",
    "from sklearn.linear_model import Lasso\n",
    "from sklearn.preprocessing import PolynomialFeatures\n",
    "from sklearn.metrics import mean_squared_error, mean_absolute_error, r2_score"
   ]
  },
  {
   "cell_type": "markdown",
   "id": "2666c631-d5b9-4c3e-80db-234be6514f10",
   "metadata": {},
   "source": [
    "# Load Dataset "
   ]
  },
  {
   "cell_type": "code",
   "execution_count": 5,
   "id": "48726717-d295-43b0-b860-ae0933639490",
   "metadata": {},
   "outputs": [],
   "source": [
    "x_treino = pd.read_csv('C:/Users/Felipe/Documents/Repos/ML/X_training.csv')\n",
    "y_treino = pd.read_csv('C:/Users/Felipe/Documents/Repos/ML/y_training.csv')\n",
    "\n",
    "x_validacao = pd.read_csv('C:/Users/Felipe/Documents/Repos/ML/X_validation.csv')\n",
    "y_validacao = pd.read_csv('C:/Users/Felipe/Documents/Repos/ML/y_val.csv')\n",
    "\n",
    "x_teste = pd.read_csv('C:/Users/Felipe/Documents/Repos/ML/X_test.csv')\n",
    "y_teste = pd.read_csv('C:/Users/Felipe/Documents/Repos/ML/y_test.csv')"
   ]
  },
  {
   "cell_type": "code",
   "execution_count": 14,
   "id": "6c303fe6-a831-4bf9-9427-d60437d3a43a",
   "metadata": {},
   "outputs": [],
   "source": [
    "y_treino_1d = y_treino.values.ravel()\n",
    "y_valid_1d = y_validacao.values.ravel()\n",
    "y_teste_1d = y_teste.values.ravel()"
   ]
  },
  {
   "cell_type": "markdown",
   "id": "5ed95d7c-355d-430f-af76-d4a95278df03",
   "metadata": {},
   "source": [
    "# treinamento\n"
   ]
  },
  {
   "cell_type": "code",
   "execution_count": 18,
   "id": "efc82ec0-6b4e-444a-87a3-568e17d9a150",
   "metadata": {},
   "outputs": [],
   "source": [
    "# Transformação Polinomial\n",
    "degree = 2\n",
    "poly = PolynomialFeatures(degree=degree)\n",
    "\n",
    "x_treino_poly = poly.fit_transform(x_treino)\n",
    "x_valid_poly = poly.transform(x_validacao)\n",
    "x_teste_poly = poly.transform(x_teste)"
   ]
  },
  {
   "cell_type": "code",
   "execution_count": 19,
   "id": "c0558546-102d-4495-9d05-ff31e4c660c7",
   "metadata": {},
   "outputs": [
    {
     "data": {
      "text/html": [
       "<style>#sk-container-id-3 {color: black;background-color: white;}#sk-container-id-3 pre{padding: 0;}#sk-container-id-3 div.sk-toggleable {background-color: white;}#sk-container-id-3 label.sk-toggleable__label {cursor: pointer;display: block;width: 100%;margin-bottom: 0;padding: 0.3em;box-sizing: border-box;text-align: center;}#sk-container-id-3 label.sk-toggleable__label-arrow:before {content: \"▸\";float: left;margin-right: 0.25em;color: #696969;}#sk-container-id-3 label.sk-toggleable__label-arrow:hover:before {color: black;}#sk-container-id-3 div.sk-estimator:hover label.sk-toggleable__label-arrow:before {color: black;}#sk-container-id-3 div.sk-toggleable__content {max-height: 0;max-width: 0;overflow: hidden;text-align: left;background-color: #f0f8ff;}#sk-container-id-3 div.sk-toggleable__content pre {margin: 0.2em;color: black;border-radius: 0.25em;background-color: #f0f8ff;}#sk-container-id-3 input.sk-toggleable__control:checked~div.sk-toggleable__content {max-height: 200px;max-width: 100%;overflow: auto;}#sk-container-id-3 input.sk-toggleable__control:checked~label.sk-toggleable__label-arrow:before {content: \"▾\";}#sk-container-id-3 div.sk-estimator input.sk-toggleable__control:checked~label.sk-toggleable__label {background-color: #d4ebff;}#sk-container-id-3 div.sk-label input.sk-toggleable__control:checked~label.sk-toggleable__label {background-color: #d4ebff;}#sk-container-id-3 input.sk-hidden--visually {border: 0;clip: rect(1px 1px 1px 1px);clip: rect(1px, 1px, 1px, 1px);height: 1px;margin: -1px;overflow: hidden;padding: 0;position: absolute;width: 1px;}#sk-container-id-3 div.sk-estimator {font-family: monospace;background-color: #f0f8ff;border: 1px dotted black;border-radius: 0.25em;box-sizing: border-box;margin-bottom: 0.5em;}#sk-container-id-3 div.sk-estimator:hover {background-color: #d4ebff;}#sk-container-id-3 div.sk-parallel-item::after {content: \"\";width: 100%;border-bottom: 1px solid gray;flex-grow: 1;}#sk-container-id-3 div.sk-label:hover label.sk-toggleable__label {background-color: #d4ebff;}#sk-container-id-3 div.sk-serial::before {content: \"\";position: absolute;border-left: 1px solid gray;box-sizing: border-box;top: 0;bottom: 0;left: 50%;z-index: 0;}#sk-container-id-3 div.sk-serial {display: flex;flex-direction: column;align-items: center;background-color: white;padding-right: 0.2em;padding-left: 0.2em;position: relative;}#sk-container-id-3 div.sk-item {position: relative;z-index: 1;}#sk-container-id-3 div.sk-parallel {display: flex;align-items: stretch;justify-content: center;background-color: white;position: relative;}#sk-container-id-3 div.sk-item::before, #sk-container-id-3 div.sk-parallel-item::before {content: \"\";position: absolute;border-left: 1px solid gray;box-sizing: border-box;top: 0;bottom: 0;left: 50%;z-index: -1;}#sk-container-id-3 div.sk-parallel-item {display: flex;flex-direction: column;z-index: 1;position: relative;background-color: white;}#sk-container-id-3 div.sk-parallel-item:first-child::after {align-self: flex-end;width: 50%;}#sk-container-id-3 div.sk-parallel-item:last-child::after {align-self: flex-start;width: 50%;}#sk-container-id-3 div.sk-parallel-item:only-child::after {width: 0;}#sk-container-id-3 div.sk-dashed-wrapped {border: 1px dashed gray;margin: 0 0.4em 0.5em 0.4em;box-sizing: border-box;padding-bottom: 0.4em;background-color: white;}#sk-container-id-3 div.sk-label label {font-family: monospace;font-weight: bold;display: inline-block;line-height: 1.2em;}#sk-container-id-3 div.sk-label-container {text-align: center;}#sk-container-id-3 div.sk-container {/* jupyter's `normalize.less` sets `[hidden] { display: none; }` but bootstrap.min.css set `[hidden] { display: none !important; }` so we also need the `!important` here to be able to override the default hidden behavior on the sphinx rendered scikit-learn.org. See: https://github.com/scikit-learn/scikit-learn/issues/21755 */display: inline-block !important;position: relative;}#sk-container-id-3 div.sk-text-repr-fallback {display: none;}</style><div id=\"sk-container-id-3\" class=\"sk-top-container\"><div class=\"sk-text-repr-fallback\"><pre>Lasso(alpha=0.01, max_iter=10000)</pre><b>In a Jupyter environment, please rerun this cell to show the HTML representation or trust the notebook. <br />On GitHub, the HTML representation is unable to render, please try loading this page with nbviewer.org.</b></div><div class=\"sk-container\" hidden><div class=\"sk-item\"><div class=\"sk-estimator sk-toggleable\"><input class=\"sk-toggleable__control sk-hidden--visually\" id=\"sk-estimator-id-3\" type=\"checkbox\" checked><label for=\"sk-estimator-id-3\" class=\"sk-toggleable__label sk-toggleable__label-arrow\">Lasso</label><div class=\"sk-toggleable__content\"><pre>Lasso(alpha=0.01, max_iter=10000)</pre></div></div></div></div></div>"
      ],
      "text/plain": [
       "Lasso(alpha=0.01, max_iter=10000)"
      ]
     },
     "execution_count": 19,
     "metadata": {},
     "output_type": "execute_result"
    }
   ],
   "source": [
    "# modelo Lasso\n",
    "modelo = Lasso(alpha=0.01, max_iter=10000)\n",
    "modelo.fit(x_treino_poly, y_treino_1d)"
   ]
  },
  {
   "cell_type": "code",
   "execution_count": 21,
   "id": "e3669af0-d516-4ecd-9c84-40431ea0482e",
   "metadata": {},
   "outputs": [],
   "source": [
    "# previsões\n",
    "y_pred_treino = modelo.predict(x_treino_poly)\n",
    "y_pred_valid = modelo.predict(x_valid_poly)\n",
    "y_pred_teste = modelo.predict(x_teste_poly)"
   ]
  },
  {
   "cell_type": "code",
   "execution_count": 25,
   "id": "7391811a-ed7a-4b6a-b0fc-6c74d370567d",
   "metadata": {},
   "outputs": [
    {
     "name": "stdout",
     "output_type": "stream",
     "text": [
      "TREINAMENTO\n",
      "MSE: 436.5129573014487\n",
      "RMSE: 20.892892506817926\n",
      "MAE: 16.540954285472633\n",
      "R2: 0.08681697125305965\n",
      "MAPE: 8.432707080361816\n"
     ]
    }
   ],
   "source": [
    "# métricas\n",
    "mse_treino = mean_squared_error(y_treino_1d, y_pred_treino)\n",
    "rmse_treino = np.sqrt(mse_treino)\n",
    "mae_treino = mean_absolute_error(y_treino_1d, y_pred_treino)\n",
    "r2_treino = r2_score(y_treino_1d, y_pred_treino)\n",
    "mape_treino = np.mean(np.abs((y_treino_1d - y_pred_treino) / y_treino_1d)) \n",
    "\n",
    "print(\"TREINAMENTO\")\n",
    "print(\"MSE:\", mse_treino)\n",
    "print(\"RMSE:\", rmse_treino)\n",
    "print(\"MAE:\", mae_treino)\n",
    "print(\"R2:\", r2_treino)\n",
    "print(\"MAPE:\", mape_treino)"
   ]
  },
  {
   "cell_type": "code",
   "execution_count": 26,
   "id": "309a5556-d5e2-4be3-b2e5-b20a56266b6c",
   "metadata": {},
   "outputs": [
    {
     "name": "stdout",
     "output_type": "stream",
     "text": [
      "\n",
      "VALIDAÇÃO\n",
      "MSE: 444.81497292729\n",
      "RMSE: 21.090637091545858\n",
      "MAE: 16.73238601818895\n",
      "R2: 0.06847297156869725\n",
      "MAPE: 859.1033087572235\n"
     ]
    }
   ],
   "source": [
    "mse_valid = mean_squared_error(y_valid_1d, y_pred_valid)\n",
    "rmse_valid = np.sqrt(mse_valid)\n",
    "mae_valid = mean_absolute_error(y_valid_1d, y_pred_valid)\n",
    "r2_valid = r2_score(y_valid_1d, y_pred_valid)\n",
    "mape_valid = np.mean(np.abs((y_valid_1d - y_pred_valid) / y_valid_1d)) * 100\n",
    "\n",
    "print(\"\\nVALIDAÇÃO\")\n",
    "print(\"MSE:\", mse_valid)\n",
    "print(\"RMSE:\", rmse_valid)\n",
    "print(\"MAE:\", mae_valid)\n",
    "print(\"R2:\", r2_valid)\n",
    "print(\"MAPE:\", mape_valid)"
   ]
  },
  {
   "cell_type": "code",
   "execution_count": 24,
   "id": "501ce304-08c6-4561-b6fc-50002dbd3205",
   "metadata": {},
   "outputs": [
    {
     "name": "stdout",
     "output_type": "stream",
     "text": [
      "\n",
      "TESTE\n",
      "MSE: 445.0768904713161\n",
      "RMSE: 21.096845509964663\n",
      "MAE: 16.760885110581327\n",
      "R2: 0.08589854505751304\n",
      "MAPE: 832.2457634743182\n"
     ]
    }
   ],
   "source": [
    "mse_teste = mean_squared_error(y_teste_1d, y_pred_teste)\n",
    "rmse_teste = np.sqrt(mse_teste)\n",
    "mae_teste = mean_absolute_error(y_teste_1d, y_pred_teste)\n",
    "r2_teste = r2_score(y_teste_1d, y_pred_teste)\n",
    "mape_teste = np.mean(np.abs((y_teste_1d - y_pred_teste) / y_teste_1d)) * 100\n",
    "\n",
    "print(\"\\nTESTE\")\n",
    "print(\"MSE:\", mse_teste)\n",
    "print(\"RMSE:\", rmse_teste)\n",
    "print(\"MAE:\", mae_teste)\n",
    "print(\"R2:\", r2_teste)\n",
    "print(\"MAPE:\", mape_teste)\n"
   ]
  },
  {
   "cell_type": "code",
   "execution_count": null,
   "id": "bc3c59f9-b79e-415f-b217-7582c43adb3f",
   "metadata": {},
   "outputs": [],
   "source": []
  }
 ],
 "metadata": {
  "kernelspec": {
   "display_name": "Python 3 (ipykernel)",
   "language": "python",
   "name": "python3"
  },
  "language_info": {
   "codemirror_mode": {
    "name": "ipython",
    "version": 3
   },
   "file_extension": ".py",
   "mimetype": "text/x-python",
   "name": "python",
   "nbconvert_exporter": "python",
   "pygments_lexer": "ipython3",
   "version": "3.10.9"
  }
 },
 "nbformat": 4,
 "nbformat_minor": 5
}
