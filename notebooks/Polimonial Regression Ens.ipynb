{
 "cells": [
  {
   "cell_type": "markdown",
   "id": "5c12a30a-af0d-4abe-b77e-95b2ec4ee560",
   "metadata": {},
   "source": [
    "# Imports"
   ]
  },
  {
   "cell_type": "code",
   "execution_count": 11,
   "id": "bb0a71ca-279f-41a8-a87b-41d8e6ee3eab",
   "metadata": {},
   "outputs": [],
   "source": [
    "import pandas as pd\n",
    "import numpy as np\n",
    "from sklearn.linear_model import LinearRegression\n",
    "from sklearn.metrics import mean_squared_error, mean_absolute_error, r2_score\n",
    "from sklearn.preprocessing import PolynomialFeatures\n"
   ]
  },
  {
   "cell_type": "markdown",
   "id": "d9366c97-35a8-415a-9406-370e8fd25cbb",
   "metadata": {},
   "source": [
    "# Load Dataset "
   ]
  },
  {
   "cell_type": "code",
   "execution_count": 12,
   "id": "d4be74b2-d522-4ce1-b27e-d863e9b8c651",
   "metadata": {},
   "outputs": [],
   "source": [
    "x_treino = pd.read_csv('C:/Users/Felipe/Documents/Repos/ML/X_training.csv')\n",
    "y_treino = pd.read_csv('C:/Users/Felipe/Documents/Repos/ML/y_training.csv')\n",
    "\n",
    "x_validacao = pd.read_csv('C:/Users/Felipe/Documents/Repos/ML/X_validation.csv')\n",
    "y_validacao = pd.read_csv('C:/Users/Felipe/Documents/Repos/ML/y_val.csv')\n",
    "\n",
    "x_teste = pd.read_csv('C:/Users/Felipe/Documents/Repos/ML/X_test.csv')\n",
    "y_teste = pd.read_csv('C:/Users/Felipe/Documents/Repos/ML/y_test.csv') "
   ]
  },
  {
   "cell_type": "markdown",
   "id": "207a064c-f882-42e5-9b12-e42745c60312",
   "metadata": {},
   "source": [
    "# treinamento"
   ]
  },
  {
   "cell_type": "code",
   "execution_count": 14,
   "id": "b9997ec0-e509-4030-84ea-98915ab2b95e",
   "metadata": {},
   "outputs": [],
   "source": [
    "degree = 2"
   ]
  },
  {
   "cell_type": "code",
   "execution_count": 15,
   "id": "20a7dc0f-da13-4d7e-888f-757742cc2abc",
   "metadata": {},
   "outputs": [],
   "source": [
    "# 1. Transformando os dados para incluir termos polinomiais\n",
    "poly = PolynomialFeatures(degree=degree)\n",
    "\n",
    "x_treino_poly = poly.fit_transform(x_treino)\n",
    "x_valid_poly =  poly.transform(x_validacao)\n",
    "x_teste_poly = poly.transform(x_teste)\n"
   ]
  },
  {
   "cell_type": "code",
   "execution_count": 22,
   "id": "562b15ed-4226-425e-83bf-1ba3a345187e",
   "metadata": {},
   "outputs": [
    {
     "data": {
      "text/html": [
       "<style>#sk-container-id-4 {color: black;background-color: white;}#sk-container-id-4 pre{padding: 0;}#sk-container-id-4 div.sk-toggleable {background-color: white;}#sk-container-id-4 label.sk-toggleable__label {cursor: pointer;display: block;width: 100%;margin-bottom: 0;padding: 0.3em;box-sizing: border-box;text-align: center;}#sk-container-id-4 label.sk-toggleable__label-arrow:before {content: \"▸\";float: left;margin-right: 0.25em;color: #696969;}#sk-container-id-4 label.sk-toggleable__label-arrow:hover:before {color: black;}#sk-container-id-4 div.sk-estimator:hover label.sk-toggleable__label-arrow:before {color: black;}#sk-container-id-4 div.sk-toggleable__content {max-height: 0;max-width: 0;overflow: hidden;text-align: left;background-color: #f0f8ff;}#sk-container-id-4 div.sk-toggleable__content pre {margin: 0.2em;color: black;border-radius: 0.25em;background-color: #f0f8ff;}#sk-container-id-4 input.sk-toggleable__control:checked~div.sk-toggleable__content {max-height: 200px;max-width: 100%;overflow: auto;}#sk-container-id-4 input.sk-toggleable__control:checked~label.sk-toggleable__label-arrow:before {content: \"▾\";}#sk-container-id-4 div.sk-estimator input.sk-toggleable__control:checked~label.sk-toggleable__label {background-color: #d4ebff;}#sk-container-id-4 div.sk-label input.sk-toggleable__control:checked~label.sk-toggleable__label {background-color: #d4ebff;}#sk-container-id-4 input.sk-hidden--visually {border: 0;clip: rect(1px 1px 1px 1px);clip: rect(1px, 1px, 1px, 1px);height: 1px;margin: -1px;overflow: hidden;padding: 0;position: absolute;width: 1px;}#sk-container-id-4 div.sk-estimator {font-family: monospace;background-color: #f0f8ff;border: 1px dotted black;border-radius: 0.25em;box-sizing: border-box;margin-bottom: 0.5em;}#sk-container-id-4 div.sk-estimator:hover {background-color: #d4ebff;}#sk-container-id-4 div.sk-parallel-item::after {content: \"\";width: 100%;border-bottom: 1px solid gray;flex-grow: 1;}#sk-container-id-4 div.sk-label:hover label.sk-toggleable__label {background-color: #d4ebff;}#sk-container-id-4 div.sk-serial::before {content: \"\";position: absolute;border-left: 1px solid gray;box-sizing: border-box;top: 0;bottom: 0;left: 50%;z-index: 0;}#sk-container-id-4 div.sk-serial {display: flex;flex-direction: column;align-items: center;background-color: white;padding-right: 0.2em;padding-left: 0.2em;position: relative;}#sk-container-id-4 div.sk-item {position: relative;z-index: 1;}#sk-container-id-4 div.sk-parallel {display: flex;align-items: stretch;justify-content: center;background-color: white;position: relative;}#sk-container-id-4 div.sk-item::before, #sk-container-id-4 div.sk-parallel-item::before {content: \"\";position: absolute;border-left: 1px solid gray;box-sizing: border-box;top: 0;bottom: 0;left: 50%;z-index: -1;}#sk-container-id-4 div.sk-parallel-item {display: flex;flex-direction: column;z-index: 1;position: relative;background-color: white;}#sk-container-id-4 div.sk-parallel-item:first-child::after {align-self: flex-end;width: 50%;}#sk-container-id-4 div.sk-parallel-item:last-child::after {align-self: flex-start;width: 50%;}#sk-container-id-4 div.sk-parallel-item:only-child::after {width: 0;}#sk-container-id-4 div.sk-dashed-wrapped {border: 1px dashed gray;margin: 0 0.4em 0.5em 0.4em;box-sizing: border-box;padding-bottom: 0.4em;background-color: white;}#sk-container-id-4 div.sk-label label {font-family: monospace;font-weight: bold;display: inline-block;line-height: 1.2em;}#sk-container-id-4 div.sk-label-container {text-align: center;}#sk-container-id-4 div.sk-container {/* jupyter's `normalize.less` sets `[hidden] { display: none; }` but bootstrap.min.css set `[hidden] { display: none !important; }` so we also need the `!important` here to be able to override the default hidden behavior on the sphinx rendered scikit-learn.org. See: https://github.com/scikit-learn/scikit-learn/issues/21755 */display: inline-block !important;position: relative;}#sk-container-id-4 div.sk-text-repr-fallback {display: none;}</style><div id=\"sk-container-id-4\" class=\"sk-top-container\"><div class=\"sk-text-repr-fallback\"><pre>LinearRegression()</pre><b>In a Jupyter environment, please rerun this cell to show the HTML representation or trust the notebook. <br />On GitHub, the HTML representation is unable to render, please try loading this page with nbviewer.org.</b></div><div class=\"sk-container\" hidden><div class=\"sk-item\"><div class=\"sk-estimator sk-toggleable\"><input class=\"sk-toggleable__control sk-hidden--visually\" id=\"sk-estimator-id-4\" type=\"checkbox\" checked><label for=\"sk-estimator-id-4\" class=\"sk-toggleable__label sk-toggleable__label-arrow\">LinearRegression</label><div class=\"sk-toggleable__content\"><pre>LinearRegression()</pre></div></div></div></div></div>"
      ],
      "text/plain": [
       "LinearRegression()"
      ]
     },
     "execution_count": 22,
     "metadata": {},
     "output_type": "execute_result"
    }
   ],
   "source": [
    "# Cria o modelo de regressão linear\n",
    "modelo = LinearRegression()\n",
    "modelo.fit(x_treino_poly, y_treino) "
   ]
  },
  {
   "cell_type": "code",
   "execution_count": 30,
   "id": "f162bc90-85be-484e-a352-a2c356a82e6c",
   "metadata": {},
   "outputs": [],
   "source": [
    "# Faz previsões para cada conjunto\n",
    "y_pred_treino = modelo.predict(x_treino_poly)\n",
    "y_pred_valid = modelo.predict(x_valid_poly)\n",
    "y_pred_teste = modelo.predict(x_teste_poly)"
   ]
  },
  {
   "cell_type": "code",
   "execution_count": 33,
   "id": "4173ab5d-af32-41e9-ba3d-19557dd0d6d4",
   "metadata": {},
   "outputs": [
    {
     "name": "stdout",
     "output_type": "stream",
     "text": [
      "=== TREINAMENTO ===\n",
      "R²: 0.094\n",
      "MSE: 432.99\n",
      "RMSE: 20.81\n",
      "MAE: 16.46\n",
      "MAPE: song_popularity    835.05\n",
      "dtype: float64 %\n"
     ]
    }
   ],
   "source": [
    "# ====== TREINAMENTO ======\n",
    "mse_treino = mean_squared_error(y_treino, y_pred_treino)\n",
    "rmse_treino = np.sqrt(mse_treino)\n",
    "mae_treino = mean_absolute_error(y_treino, y_pred_treino)\n",
    "r2_treino = r2_score(y_treino, y_pred_treino)\n",
    "\n",
    "print(\"=== TREINAMENTO ===\")\n",
    "print(\"R²:\", round(r2_treino, 3))\n",
    "print(\"MSE:\", round(mse_treino, 2))\n",
    "print(\"RMSE:\", round(rmse_treino, 2))\n",
    "print(\"MAE:\", round(mae_treino, 2))\n",
    "print(\"MAPE:\", round(mape_treino, 2), \"%\")"
   ]
  },
  {
   "cell_type": "code",
   "execution_count": 34,
   "id": "6f4e8a57-df10-4cf7-b2ef-88f923121795",
   "metadata": {},
   "outputs": [
    {
     "name": "stdout",
     "output_type": "stream",
     "text": [
      "\n",
      "=== VALIDAÇÃO ===\n",
      "R²: 0.066\n",
      "MSE: 445.77\n",
      "RMSE: 21.11\n",
      "MAE: 16.75\n"
     ]
    }
   ],
   "source": [
    "# ====== VALIDAÇÃO ======\n",
    "mse_valid = mean_squared_error(y_validacao, y_pred_valid)\n",
    "rmse_valid = np.sqrt(mse_valid)\n",
    "mae_valid = mean_absolute_error(y_validacao, y_pred_valid)\n",
    "r2_valid = r2_score(y_validacao, y_pred_valid)\n",
    "print(\"\\n=== VALIDAÇÃO ===\")\n",
    "print(\"R²:\", round(r2_valid, 3))\n",
    "print(\"MSE:\", round(mse_valid, 2))\n",
    "print(\"RMSE:\", round(rmse_valid, 2))\n",
    "print(\"MAE:\", round(mae_valid, 2))"
   ]
  },
  {
   "cell_type": "code",
   "execution_count": 36,
   "id": "187a4869-e14d-4025-8c34-4393907cf197",
   "metadata": {},
   "outputs": [
    {
     "name": "stdout",
     "output_type": "stream",
     "text": [
      "R²: 0.09\n",
      "MSE: 443.04\n",
      "RMSE: 21.05\n",
      "MAE: 16.72\n"
     ]
    }
   ],
   "source": [
    "# ====== TESTE ======\n",
    "mse_teste = mean_squared_error(y_teste, y_pred_teste)\n",
    "rmse_teste = np.sqrt(mse_teste)\n",
    "mae_teste = mean_absolute_error(y_teste, y_pred_teste)\n",
    "r2_teste = r2_score(y_teste, y_pred_teste)\n",
    "\n",
    "print(\"R²:\", round(r2_teste, 3))\n",
    "print(\"MSE:\", round(mse_teste, 2))\n",
    "print(\"RMSE:\", round(rmse_teste, 2))\n",
    "print(\"MAE:\", round(mae_teste, 2))"
   ]
  },
  {
   "cell_type": "code",
   "execution_count": null,
   "id": "616c7421-1652-4f8e-b162-3ad04a98df8d",
   "metadata": {},
   "outputs": [],
   "source": []
  },
  {
   "cell_type": "code",
   "execution_count": null,
   "id": "37bfc6d6-fbc3-42ac-94eb-a4a13c1f7c68",
   "metadata": {},
   "outputs": [],
   "source": []
  }
 ],
 "metadata": {
  "kernelspec": {
   "display_name": "Python 3 (ipykernel)",
   "language": "python",
   "name": "python3"
  },
  "language_info": {
   "codemirror_mode": {
    "name": "ipython",
    "version": 3
   },
   "file_extension": ".py",
   "mimetype": "text/x-python",
   "name": "python",
   "nbconvert_exporter": "python",
   "pygments_lexer": "ipython3",
   "version": "3.10.9"
  }
 },
 "nbformat": 4,
 "nbformat_minor": 5
}
