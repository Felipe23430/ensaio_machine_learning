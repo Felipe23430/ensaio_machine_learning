{
 "cells": [
  {
   "cell_type": "code",
   "execution_count": 48,
   "id": "f2e33e6e-df57-4dbd-b5e9-f43a80321dd5",
   "metadata": {},
   "outputs": [
    {
     "name": "stderr",
     "output_type": "stream",
     "text": [
      "C:\\Users\\Felipe\\anaconda3\\lib\\site-packages\\sklearn\\cluster\\_kmeans.py:1382: UserWarning: KMeans is known to have a memory leak on Windows with MKL, when there are less chunks than available threads. You can avoid it by setting the environment variable OMP_NUM_THREADS=1.\n",
      "  warnings.warn(\n"
     ]
    },
    {
     "name": "stdout",
     "output_type": "stream",
     "text": [
      "Average Silhouette Score para k=8: 0.2022\n"
     ]
    }
   ],
   "source": [
    "import pandas as pd\n",
    "from sklearn.preprocessing import StandardScaler\n",
    "from sklearn.cluster import KMeans\n",
    "from sklearn.metrics import silhouette_score\n",
    "# === Carregar os dados ===\n",
    "dados = pd.read_csv(\"C:/Users/Felipe/Documents/Repos/ML/X_dataset.csv\")\n",
    "\n",
    "# === 2. Padronizar os dados ===\n",
    "#scaler = StandardScaler()\n",
    "#dados_norm = scaler.fit_transform(dados)\n",
    "\n",
    "# === 3. Aplicar KMeans com k=8 ===\n",
    "kmeans = KMeans(n_clusters=8, n_init=12, random_state=52)\n",
    "kmeans.fit(dados_norm)\n",
    "\n",
    "# === 4. Calcular o Average Silhouette Score ===\n",
    "silhouette_avg = silhouette_score(dados_norm, kmeans.labels_)\n",
    "\n",
    "print(f\"Average Silhouette Score para k=8: {silhouette_avg:.4f}\")\n"
   ]
  },
  {
   "cell_type": "code",
   "execution_count": null,
   "id": "ff44cc7d-dc09-4e81-b784-6498ad078606",
   "metadata": {},
   "outputs": [],
   "source": []
  },
  {
   "cell_type": "code",
   "execution_count": null,
   "id": "f4edb50a-2d59-4308-92fc-17c8b5f591b8",
   "metadata": {},
   "outputs": [],
   "source": []
  }
 ],
 "metadata": {
  "kernelspec": {
   "display_name": "Python 3 (ipykernel)",
   "language": "python",
   "name": "python3"
  },
  "language_info": {
   "codemirror_mode": {
    "name": "ipython",
    "version": 3
   },
   "file_extension": ".py",
   "mimetype": "text/x-python",
   "name": "python",
   "nbconvert_exporter": "python",
   "pygments_lexer": "ipython3",
   "version": "3.10.9"
  }
 },
 "nbformat": 4,
 "nbformat_minor": 5
}
