{
 "cells": [
  {
   "cell_type": "code",
   "execution_count": 2,
   "id": "77105202-a859-4213-88ff-8c2b78533f0c",
   "metadata": {},
   "outputs": [],
   "source": [
    "import pandas as pd\n",
    "import numpy as np\n",
    "from sklearn.linear_model import ElasticNet\n",
    "from sklearn.metrics import mean_squared_error, mean_absolute_error, r2_score\n",
    "\n",
    "# Carregar os dados\n",
    "x_treino = pd.read_csv('C:/Users/Felipe/Documents/Repos/ML/X_training.csv')\n",
    "y_treino = pd.read_csv('C:/Users/Felipe/Documents/Repos/ML/y_training.csv')\n",
    "\n",
    "x_validacao = pd.read_csv('C:/Users/Felipe/Documents/Repos/ML/X_validation.csv')\n",
    "y_validacao = pd.read_csv('C:/Users/Felipe/Documents/Repos/ML/y_val.csv')\n",
    "\n",
    "x_teste = pd.read_csv('C:/Users/Felipe/Documents/Repos/ML/X_test.csv')\n",
    "y_teste = pd.read_csv('C:/Users/Felipe/Documents/Repos/ML/y_test.csv')\n",
    "\n",
    "# Ajustar vetores\n",
    "y_treino_1d = y_treino.values.ravel()\n",
    "y_valid_1d = y_validacao.values.ravel()\n",
    "y_teste_1d = y_teste.values.ravel()\n",
    "\n"
   ]
  },
  {
   "cell_type": "code",
   "execution_count": 4,
   "id": "29104dcf-0b7c-4fb4-b037-742bd037863d",
   "metadata": {},
   "outputs": [
    {
     "data": {
      "text/html": [
       "<style>#sk-container-id-1 {color: black;background-color: white;}#sk-container-id-1 pre{padding: 0;}#sk-container-id-1 div.sk-toggleable {background-color: white;}#sk-container-id-1 label.sk-toggleable__label {cursor: pointer;display: block;width: 100%;margin-bottom: 0;padding: 0.3em;box-sizing: border-box;text-align: center;}#sk-container-id-1 label.sk-toggleable__label-arrow:before {content: \"▸\";float: left;margin-right: 0.25em;color: #696969;}#sk-container-id-1 label.sk-toggleable__label-arrow:hover:before {color: black;}#sk-container-id-1 div.sk-estimator:hover label.sk-toggleable__label-arrow:before {color: black;}#sk-container-id-1 div.sk-toggleable__content {max-height: 0;max-width: 0;overflow: hidden;text-align: left;background-color: #f0f8ff;}#sk-container-id-1 div.sk-toggleable__content pre {margin: 0.2em;color: black;border-radius: 0.25em;background-color: #f0f8ff;}#sk-container-id-1 input.sk-toggleable__control:checked~div.sk-toggleable__content {max-height: 200px;max-width: 100%;overflow: auto;}#sk-container-id-1 input.sk-toggleable__control:checked~label.sk-toggleable__label-arrow:before {content: \"▾\";}#sk-container-id-1 div.sk-estimator input.sk-toggleable__control:checked~label.sk-toggleable__label {background-color: #d4ebff;}#sk-container-id-1 div.sk-label input.sk-toggleable__control:checked~label.sk-toggleable__label {background-color: #d4ebff;}#sk-container-id-1 input.sk-hidden--visually {border: 0;clip: rect(1px 1px 1px 1px);clip: rect(1px, 1px, 1px, 1px);height: 1px;margin: -1px;overflow: hidden;padding: 0;position: absolute;width: 1px;}#sk-container-id-1 div.sk-estimator {font-family: monospace;background-color: #f0f8ff;border: 1px dotted black;border-radius: 0.25em;box-sizing: border-box;margin-bottom: 0.5em;}#sk-container-id-1 div.sk-estimator:hover {background-color: #d4ebff;}#sk-container-id-1 div.sk-parallel-item::after {content: \"\";width: 100%;border-bottom: 1px solid gray;flex-grow: 1;}#sk-container-id-1 div.sk-label:hover label.sk-toggleable__label {background-color: #d4ebff;}#sk-container-id-1 div.sk-serial::before {content: \"\";position: absolute;border-left: 1px solid gray;box-sizing: border-box;top: 0;bottom: 0;left: 50%;z-index: 0;}#sk-container-id-1 div.sk-serial {display: flex;flex-direction: column;align-items: center;background-color: white;padding-right: 0.2em;padding-left: 0.2em;position: relative;}#sk-container-id-1 div.sk-item {position: relative;z-index: 1;}#sk-container-id-1 div.sk-parallel {display: flex;align-items: stretch;justify-content: center;background-color: white;position: relative;}#sk-container-id-1 div.sk-item::before, #sk-container-id-1 div.sk-parallel-item::before {content: \"\";position: absolute;border-left: 1px solid gray;box-sizing: border-box;top: 0;bottom: 0;left: 50%;z-index: -1;}#sk-container-id-1 div.sk-parallel-item {display: flex;flex-direction: column;z-index: 1;position: relative;background-color: white;}#sk-container-id-1 div.sk-parallel-item:first-child::after {align-self: flex-end;width: 50%;}#sk-container-id-1 div.sk-parallel-item:last-child::after {align-self: flex-start;width: 50%;}#sk-container-id-1 div.sk-parallel-item:only-child::after {width: 0;}#sk-container-id-1 div.sk-dashed-wrapped {border: 1px dashed gray;margin: 0 0.4em 0.5em 0.4em;box-sizing: border-box;padding-bottom: 0.4em;background-color: white;}#sk-container-id-1 div.sk-label label {font-family: monospace;font-weight: bold;display: inline-block;line-height: 1.2em;}#sk-container-id-1 div.sk-label-container {text-align: center;}#sk-container-id-1 div.sk-container {/* jupyter's `normalize.less` sets `[hidden] { display: none; }` but bootstrap.min.css set `[hidden] { display: none !important; }` so we also need the `!important` here to be able to override the default hidden behavior on the sphinx rendered scikit-learn.org. See: https://github.com/scikit-learn/scikit-learn/issues/21755 */display: inline-block !important;position: relative;}#sk-container-id-1 div.sk-text-repr-fallback {display: none;}</style><div id=\"sk-container-id-1\" class=\"sk-top-container\"><div class=\"sk-text-repr-fallback\"><pre>ElasticNet(alpha=0.1)</pre><b>In a Jupyter environment, please rerun this cell to show the HTML representation or trust the notebook. <br />On GitHub, the HTML representation is unable to render, please try loading this page with nbviewer.org.</b></div><div class=\"sk-container\" hidden><div class=\"sk-item\"><div class=\"sk-estimator sk-toggleable\"><input class=\"sk-toggleable__control sk-hidden--visually\" id=\"sk-estimator-id-1\" type=\"checkbox\" checked><label for=\"sk-estimator-id-1\" class=\"sk-toggleable__label sk-toggleable__label-arrow\">ElasticNet</label><div class=\"sk-toggleable__content\"><pre>ElasticNet(alpha=0.1)</pre></div></div></div></div></div>"
      ],
      "text/plain": [
       "ElasticNet(alpha=0.1)"
      ]
     },
     "execution_count": 4,
     "metadata": {},
     "output_type": "execute_result"
    }
   ],
   "source": [
    "# Treinamento do Modelo ElasticNet\n",
    "\n",
    "alpha = 0.1\n",
    "l1_ratio = 0.5\n",
    "max_iter = 1000\n",
    "\n",
    "modelo = ElasticNet(alpha=alpha, l1_ratio=l1_ratio, max_iter=max_iter)\n",
    "modelo.fit(x_treino, y_treino_1d)\n"
   ]
  },
  {
   "cell_type": "code",
   "execution_count": 5,
   "id": "3a7177a9-d8c3-48df-a753-9c83ac8d1cba",
   "metadata": {},
   "outputs": [],
   "source": [
    "y_pred_treino = modelo.predict(x_treino)\n",
    "y_pred_valid = modelo.predict(x_validacao)\n",
    "y_pred_teste = modelo.predict(x_teste)\n"
   ]
  },
  {
   "cell_type": "code",
   "execution_count": 6,
   "id": "0edaa475-69e7-46b2-90c7-60092f00a2b9",
   "metadata": {},
   "outputs": [
    {
     "name": "stdout",
     "output_type": "stream",
     "text": [
      "TREINAMENTO\n",
      "MSE: 463.4356150806079\n",
      "RMSE: 21.527554786380357\n",
      "MAE: 17.124484074776664\n",
      "R2: 0.030494899338681658\n",
      "MAPE: 868.1373060654626\n"
     ]
    }
   ],
   "source": [
    "mse_treino = mean_squared_error(y_treino_1d, y_pred_treino)\n",
    "rmse_treino = np.sqrt(mse_treino)\n",
    "mae_treino = mean_absolute_error(y_treino_1d, y_pred_treino)\n",
    "r2_treino = r2_score(y_treino_1d, y_pred_treino)\n",
    "mape_treino = np.mean(np.abs((y_treino_1d - y_pred_treino) / y_treino_1d)) * 100\n",
    "\n",
    "print(\"TREINAMENTO\")\n",
    "print(\"MSE:\", mse_treino)\n",
    "print(\"RMSE:\", rmse_treino)\n",
    "print(\"MAE:\", mae_treino)\n",
    "print(\"R2:\", r2_treino)\n",
    "print(\"MAPE:\", mape_treino)\n"
   ]
  },
  {
   "cell_type": "code",
   "execution_count": 7,
   "id": "078f2bbb-2671-4bf4-bb9a-537e483cfaf0",
   "metadata": {},
   "outputs": [
    {
     "name": "stdout",
     "output_type": "stream",
     "text": [
      "\n",
      "VALIDAÇÃO\n",
      "MSE: 463.9576409963567\n",
      "RMSE: 21.539675972408606\n",
      "MAE: 17.098323180943396\n",
      "R2: 0.028384589234635604\n",
      "MAPE: 867.6790690797696\n"
     ]
    }
   ],
   "source": [
    "mse_valid = mean_squared_error(y_valid_1d, y_pred_valid)\n",
    "rmse_valid = np.sqrt(mse_valid)\n",
    "mae_valid = mean_absolute_error(y_valid_1d, y_pred_valid)\n",
    "r2_valid = r2_score(y_valid_1d, y_pred_valid)\n",
    "mape_valid = np.mean(np.abs((y_valid_1d - y_pred_valid) / y_valid_1d)) * 100\n",
    "\n",
    "print(\"\\nVALIDAÇÃO\")\n",
    "print(\"MSE:\", mse_valid)\n",
    "print(\"RMSE:\", rmse_valid)\n",
    "print(\"MAE:\", mae_valid)\n",
    "print(\"R2:\", r2_valid)\n",
    "print(\"MAPE:\", mape_valid)\n"
   ]
  },
  {
   "cell_type": "code",
   "execution_count": 8,
   "id": "4f038745-b5ec-4500-893f-89e9d8d5a533",
   "metadata": {},
   "outputs": [
    {
     "name": "stdout",
     "output_type": "stream",
     "text": [
      "\n",
      "TESTE\n",
      "MSE: 471.01392399515726\n",
      "RMSE: 21.702855203755043\n",
      "MAE: 17.259824772688905\n",
      "R2: 0.032628917744514485\n",
      "MAPE: 866.7604542195729\n"
     ]
    }
   ],
   "source": [
    "mse_teste = mean_squared_error(y_teste_1d, y_pred_teste)\n",
    "rmse_teste = np.sqrt(mse_teste)\n",
    "mae_teste = mean_absolute_error(y_teste_1d, y_pred_teste)\n",
    "r2_teste = r2_score(y_teste_1d, y_pred_teste)\n",
    "mape_teste = np.mean(np.abs((y_teste_1d - y_pred_teste) / y_teste_1d)) * 100\n",
    "\n",
    "print(\"\\nTESTE\")\n",
    "print(\"MSE:\", mse_teste)\n",
    "print(\"RMSE:\", rmse_teste)\n",
    "print(\"MAE:\", mae_teste)\n",
    "print(\"R2:\", r2_teste)\n",
    "print(\"MAPE:\", mape_teste)\n"
   ]
  },
  {
   "cell_type": "code",
   "execution_count": null,
   "id": "e653ae95-30bd-4d04-9bbc-327a55c5e480",
   "metadata": {},
   "outputs": [],
   "source": []
  }
 ],
 "metadata": {
  "kernelspec": {
   "display_name": "Python 3 (ipykernel)",
   "language": "python",
   "name": "python3"
  },
  "language_info": {
   "codemirror_mode": {
    "name": "ipython",
    "version": 3
   },
   "file_extension": ".py",
   "mimetype": "text/x-python",
   "name": "python",
   "nbconvert_exporter": "python",
   "pygments_lexer": "ipython3",
   "version": "3.10.9"
  }
 },
 "nbformat": 4,
 "nbformat_minor": 5
}
