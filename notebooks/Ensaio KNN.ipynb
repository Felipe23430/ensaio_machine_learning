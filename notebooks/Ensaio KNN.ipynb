{
 "cells": [
  {
   "cell_type": "markdown",
   "id": "374c1361-ea5c-4e85-9625-04bb13e7d86d",
   "metadata": {},
   "source": [
    "# 1.0 Import libraries\n"
   ]
  },
  {
   "cell_type": "code",
   "execution_count": 10,
   "id": "f4859134-4e8d-4e59-985a-6cdaceb8ce7d",
   "metadata": {},
   "outputs": [],
   "source": [
    "import pandas as pd\n",
    "from sklearn.neighbors import KNeighborsClassifier\n",
    "from sklearn.metrics import  accuracy_score, precision_score, recall_score, f1_score\n"
   ]
  },
  {
   "cell_type": "markdown",
   "id": "cb297ca7-c860-4d4e-86d1-920dbd155b63",
   "metadata": {},
   "source": [
    "# 1.1 Load Dataset"
   ]
  },
  {
   "cell_type": "code",
   "execution_count": 49,
   "id": "d306e5fc-6d97-4d56-b50d-3ad7edd0274f",
   "metadata": {},
   "outputs": [],
   "source": [
    "# carregando arquivos de treinamentro\n",
    "x_treino = pd.read_csv('C:/Users/Felipe/Documents/Repos/ML/x_treino.csv')\n",
    "y_treino = pd.read_csv('C:/Users/Felipe/Documents/Repos/ML/y_treino.csv')\n",
    "\n",
    "# carregando arquivos de validação\n",
    "x_validacao =pd.read_csv('C:/Users/Felipe/Documents/Repos/ML/x_validation.csv')\n",
    "y_validacao = pd.read_csv('C:/Users/Felipe/Documents/Repos/ML/y_validation.csv')\n",
    "\n",
    "# carregando arquivos de teste\n",
    "x_teste = pd.read_csv('C:/Users/Felipe/Documents/Repos/ML/x_test.csv')\n",
    "y_teste = pd.read_csv('C:/Users/Felipe/Documents/Repos/ML/y_test.csv')\n"
   ]
  },
  {
   "cell_type": "markdown",
   "id": "823551ce-50c8-4a67-952c-9a7077852e19",
   "metadata": {},
   "source": [
    "# 2.0 treinamento"
   ]
  },
  {
   "cell_type": "code",
   "execution_count": 58,
   "id": "7c48a785-8666-44b6-9588-819f8a11c353",
   "metadata": {},
   "outputs": [
    {
     "data": {
      "text/html": [
       "<style>#sk-container-id-5 {color: black;background-color: white;}#sk-container-id-5 pre{padding: 0;}#sk-container-id-5 div.sk-toggleable {background-color: white;}#sk-container-id-5 label.sk-toggleable__label {cursor: pointer;display: block;width: 100%;margin-bottom: 0;padding: 0.3em;box-sizing: border-box;text-align: center;}#sk-container-id-5 label.sk-toggleable__label-arrow:before {content: \"▸\";float: left;margin-right: 0.25em;color: #696969;}#sk-container-id-5 label.sk-toggleable__label-arrow:hover:before {color: black;}#sk-container-id-5 div.sk-estimator:hover label.sk-toggleable__label-arrow:before {color: black;}#sk-container-id-5 div.sk-toggleable__content {max-height: 0;max-width: 0;overflow: hidden;text-align: left;background-color: #f0f8ff;}#sk-container-id-5 div.sk-toggleable__content pre {margin: 0.2em;color: black;border-radius: 0.25em;background-color: #f0f8ff;}#sk-container-id-5 input.sk-toggleable__control:checked~div.sk-toggleable__content {max-height: 200px;max-width: 100%;overflow: auto;}#sk-container-id-5 input.sk-toggleable__control:checked~label.sk-toggleable__label-arrow:before {content: \"▾\";}#sk-container-id-5 div.sk-estimator input.sk-toggleable__control:checked~label.sk-toggleable__label {background-color: #d4ebff;}#sk-container-id-5 div.sk-label input.sk-toggleable__control:checked~label.sk-toggleable__label {background-color: #d4ebff;}#sk-container-id-5 input.sk-hidden--visually {border: 0;clip: rect(1px 1px 1px 1px);clip: rect(1px, 1px, 1px, 1px);height: 1px;margin: -1px;overflow: hidden;padding: 0;position: absolute;width: 1px;}#sk-container-id-5 div.sk-estimator {font-family: monospace;background-color: #f0f8ff;border: 1px dotted black;border-radius: 0.25em;box-sizing: border-box;margin-bottom: 0.5em;}#sk-container-id-5 div.sk-estimator:hover {background-color: #d4ebff;}#sk-container-id-5 div.sk-parallel-item::after {content: \"\";width: 100%;border-bottom: 1px solid gray;flex-grow: 1;}#sk-container-id-5 div.sk-label:hover label.sk-toggleable__label {background-color: #d4ebff;}#sk-container-id-5 div.sk-serial::before {content: \"\";position: absolute;border-left: 1px solid gray;box-sizing: border-box;top: 0;bottom: 0;left: 50%;z-index: 0;}#sk-container-id-5 div.sk-serial {display: flex;flex-direction: column;align-items: center;background-color: white;padding-right: 0.2em;padding-left: 0.2em;position: relative;}#sk-container-id-5 div.sk-item {position: relative;z-index: 1;}#sk-container-id-5 div.sk-parallel {display: flex;align-items: stretch;justify-content: center;background-color: white;position: relative;}#sk-container-id-5 div.sk-item::before, #sk-container-id-5 div.sk-parallel-item::before {content: \"\";position: absolute;border-left: 1px solid gray;box-sizing: border-box;top: 0;bottom: 0;left: 50%;z-index: -1;}#sk-container-id-5 div.sk-parallel-item {display: flex;flex-direction: column;z-index: 1;position: relative;background-color: white;}#sk-container-id-5 div.sk-parallel-item:first-child::after {align-self: flex-end;width: 50%;}#sk-container-id-5 div.sk-parallel-item:last-child::after {align-self: flex-start;width: 50%;}#sk-container-id-5 div.sk-parallel-item:only-child::after {width: 0;}#sk-container-id-5 div.sk-dashed-wrapped {border: 1px dashed gray;margin: 0 0.4em 0.5em 0.4em;box-sizing: border-box;padding-bottom: 0.4em;background-color: white;}#sk-container-id-5 div.sk-label label {font-family: monospace;font-weight: bold;display: inline-block;line-height: 1.2em;}#sk-container-id-5 div.sk-label-container {text-align: center;}#sk-container-id-5 div.sk-container {/* jupyter's `normalize.less` sets `[hidden] { display: none; }` but bootstrap.min.css set `[hidden] { display: none !important; }` so we also need the `!important` here to be able to override the default hidden behavior on the sphinx rendered scikit-learn.org. See: https://github.com/scikit-learn/scikit-learn/issues/21755 */display: inline-block !important;position: relative;}#sk-container-id-5 div.sk-text-repr-fallback {display: none;}</style><div id=\"sk-container-id-5\" class=\"sk-top-container\"><div class=\"sk-text-repr-fallback\"><pre>KNeighborsClassifier(n_neighbors=7)</pre><b>In a Jupyter environment, please rerun this cell to show the HTML representation or trust the notebook. <br />On GitHub, the HTML representation is unable to render, please try loading this page with nbviewer.org.</b></div><div class=\"sk-container\" hidden><div class=\"sk-item\"><div class=\"sk-estimator sk-toggleable\"><input class=\"sk-toggleable__control sk-hidden--visually\" id=\"sk-estimator-id-5\" type=\"checkbox\" checked><label for=\"sk-estimator-id-5\" class=\"sk-toggleable__label sk-toggleable__label-arrow\">KNeighborsClassifier</label><div class=\"sk-toggleable__content\"><pre>KNeighborsClassifier(n_neighbors=7)</pre></div></div></div></div></div>"
      ],
      "text/plain": [
       "KNeighborsClassifier(n_neighbors=7)"
      ]
     },
     "execution_count": 58,
     "metadata": {},
     "output_type": "execute_result"
    }
   ],
   "source": [
    "# Modelo k=, \n",
    "\n",
    "knn = KNeighborsClassifier(n_neighbors=7)\n",
    "knn.fit(x_treino, y_treino.values.ravel())\n",
    " \n",
    "\n",
    "        "
   ]
  },
  {
   "cell_type": "markdown",
   "id": "094065a9-1b1e-42a0-ba55-92b75a15ebae",
   "metadata": {},
   "source": [
    "# 2.1 Conjunto Treinamento"
   ]
  },
  {
   "cell_type": "code",
   "execution_count": 59,
   "id": "33c7077a-29be-4470-bd65-316ee1daca61",
   "metadata": {},
   "outputs": [
    {
     "name": "stdout",
     "output_type": "stream",
     "text": [
      "Acuracia : 0.7563124870716403\n",
      "Preciscao : 0.731248949403261\n",
      "Recall : 0.6920898561792033\n",
      "F1 score: 0.7111307276085855\n"
     ]
    }
   ],
   "source": [
    "y_pred_treino = knn.predict(x_treino)\n",
    "\n",
    "\n",
    "print(\"Acuracia :\" ,accuracy_score(y_treino, y_pred_treino))\n",
    "print(\"Preciscao :\" ,precision_score(y_treino, y_pred_treino))\n",
    "print(\"Recall :\" , recall_score(y_treino, y_pred_treino))\n",
    "print(\"F1 score:\" ,f1_score(y_treino, y_pred_treino))"
   ]
  },
  {
   "cell_type": "markdown",
   "id": "20959ce7-d71f-42c9-9ccc-0ede3cce79b2",
   "metadata": {},
   "source": [
    "# 2.2 Conjunto validação"
   ]
  },
  {
   "cell_type": "code",
   "execution_count": 60,
   "id": "347e0284-99ad-4f7e-9ed4-bf4cbdeda195",
   "metadata": {},
   "outputs": [
    {
     "name": "stdout",
     "output_type": "stream",
     "text": [
      "Acuracia: 0.6669777019852634\n",
      "Precisao: 0.6227083169407507\n",
      "Recall: 0.5875714603905264\n",
      "F1 Score: 0.6046298418519368\n"
     ]
    }
   ],
   "source": [
    "y_pred_valid = knn.predict(x_validacao)\n",
    "\n",
    "print(\"Acuracia:\", accuracy_score(y_validacao, y_pred_valid))\n",
    "print(\"Precisao:\", precision_score(y_validacao, y_pred_valid))\n",
    "print(\"Recall:\", recall_score(y_validacao, y_pred_valid))\n",
    "print(\"F1 Score:\", f1_score(y_validacao, y_pred_valid))"
   ]
  },
  {
   "cell_type": "markdown",
   "id": "7dca92ec-1f0d-442b-b0ed-128844269d07",
   "metadata": {},
   "source": [
    "# 2.3 Conjunto teste"
   ]
  },
  {
   "cell_type": "code",
   "execution_count": 61,
   "id": "a7d6ffc7-788d-4599-9b1e-52e5e686f3ad",
   "metadata": {},
   "outputs": [
    {
     "name": "stdout",
     "output_type": "stream",
     "text": [
      "Acuracia:  0.6677480400108138\n",
      "Precisao:  0.6302830188679245\n",
      "Recall:  0.5878574571051474\n",
      "F1 Score:  0.6083314363760528\n"
     ]
    }
   ],
   "source": [
    "y_pred_test = knn.predict(x_teste)\n",
    "y_teste1 = y_teste.values.ravel()\n",
    "print(\"Acuracia: \", accuracy_score(y_teste, y_pred_test))\n",
    "print(\"Precisao: \", precision_score(y_teste, y_pred_test))\n",
    "print(\"Recall: \"  , recall_score(y_teste, y_pred_test))\n",
    "print(\"F1 Score: \", f1_score(y_teste, y_pred_test))\n",
    "      "
   ]
  },
  {
   "cell_type": "markdown",
   "id": "ee6dd1d8-c92c-4da0-b735-c06ac6cf94e3",
   "metadata": {},
   "source": [
    "# exemplo para descobrir o melhor k"
   ]
  },
  {
   "cell_type": "code",
   "execution_count": 63,
   "id": "99b89514-65ac-448e-b983-0d8ac0f37386",
   "metadata": {},
   "outputs": [
    {
     "name": "stdout",
     "output_type": "stream",
     "text": [
      "K=1 --> Acurácia = 0.6785\n",
      "K=2 --> Acurácia = 0.6613\n",
      "K=3 --> Acurácia = 0.6763\n",
      "K=4 --> Acurácia = 0.6687\n",
      "K=5 --> Acurácia = 0.6757\n",
      "K=6 --> Acurácia = 0.6705\n",
      "K=7 --> Acurácia = 0.6670\n",
      "K=8 --> Acurácia = 0.6677\n",
      "K=9 --> Acurácia = 0.6665\n",
      "K=10 --> Acurácia = 0.6654\n",
      "K=11 --> Acurácia = 0.6644\n",
      "K=12 --> Acurácia = 0.6632\n",
      "K=13 --> Acurácia = 0.6610\n",
      "K=14 --> Acurácia = 0.6611\n",
      "K=15 --> Acurácia = 0.6586\n",
      "K=16 --> Acurácia = 0.6557\n",
      "K=17 --> Acurácia = 0.6523\n",
      "K=18 --> Acurácia = 0.6534\n",
      "K=19 --> Acurácia = 0.6499\n",
      "K=20 --> Acurácia = 0.6490\n",
      "\n",
      "O melhor valor de K foi 1 com acurácia de 0.6785\n"
     ]
    }
   ],
   "source": [
    "melhor_k = 1\n",
    "melhor_acuracia = 0\n",
    "\n",
    "# Vamos testar valores de K de 1 até 20\n",
    "for k in range(1, 21):\n",
    "    knn = KNeighborsClassifier(n_neighbors=k)\n",
    "    knn.fit(x_treino, y_treino.values.ravel())  # Treina com os dados de treino\n",
    "    \n",
    "    # Faz previsões no conjunto de validação\n",
    "    y_pred = knn.predict(x_validacao)\n",
    "    \n",
    "    # Calcula a acurácia\n",
    "    acuracia = accuracy_score(y_validacao, y_pred)\n",
    "    print(f\"K={k} --> Acurácia = {acuracia:.4f}\")\n",
    "    \n",
    "    # Se a acurácia for melhor que a anterior, atualizamos\n",
    "    if acuracia > melhor_acuracia:\n",
    "        melhor_k = k\n",
    "        melhor_acuracia = acuracia\n",
    "\n",
    "print(f\"\\nO melhor valor de K foi {melhor_k} com acurácia de {melhor_acuracia:.4f}\")"
   ]
  },
  {
   "cell_type": "code",
   "execution_count": null,
   "id": "1c03faef-1aa9-462f-a34a-945d18f5c501",
   "metadata": {},
   "outputs": [],
   "source": []
  }
 ],
 "metadata": {
  "kernelspec": {
   "display_name": "Python 3 (ipykernel)",
   "language": "python",
   "name": "python3"
  },
  "language_info": {
   "codemirror_mode": {
    "name": "ipython",
    "version": 3
   },
   "file_extension": ".py",
   "mimetype": "text/x-python",
   "name": "python",
   "nbconvert_exporter": "python",
   "pygments_lexer": "ipython3",
   "version": "3.10.9"
  }
 },
 "nbformat": 4,
 "nbformat_minor": 5
}
