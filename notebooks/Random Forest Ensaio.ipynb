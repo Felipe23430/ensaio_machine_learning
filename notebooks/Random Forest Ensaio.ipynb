{
 "cells": [
  {
   "cell_type": "markdown",
   "id": "8a6323af-13c2-41ed-864e-0464e8e8849a",
   "metadata": {},
   "source": [
    "# 1.0 Imports "
   ]
  },
  {
   "cell_type": "code",
   "execution_count": 6,
   "id": "19aa617b-57d5-48f0-9260-e4998800d83c",
   "metadata": {},
   "outputs": [],
   "source": [
    "import pandas as pd \n",
    "from sklearn.ensemble import RandomForestClassifier\n",
    "from sklearn.metrics import accuracy_score, precision_score, recall_score, f1_score\n"
   ]
  },
  {
   "cell_type": "markdown",
   "id": "045aaa40-44aa-40e7-a96e-7441b6cc4d22",
   "metadata": {},
   "source": [
    "# 2.0 Load Datasets "
   ]
  },
  {
   "cell_type": "code",
   "execution_count": 24,
   "id": "807f7d9b-d3c1-4f6b-ad84-bd05c20c029c",
   "metadata": {},
   "outputs": [],
   "source": [
    "x_treino = pd.read_csv('C:/Users/Felipe/Documents/Repos/ML/x_treino.csv')\n",
    "y_treino = pd.read_csv('C:/Users/Felipe/Documents/Repos/ML/y_treino.csv')\n",
    "\n",
    "x_validacao = pd.read_csv('C:/Users/Felipe/Documents/Repos/ML/x_validation.csv')\n",
    "y_validacao = pd.read_csv('C:/Users/Felipe/Documents/Repos/ML/y_validation.csv')\n",
    "\n",
    "x_teste = pd.read_csv('C:/Users/Felipe/Documents/Repos/ML/x_test.csv')\n",
    "y_teste = pd.read_csv('C:/Users/Felipe/Documents/Repos/ML/y_test.csv') "
   ]
  },
  {
   "cell_type": "code",
   "execution_count": 25,
   "id": "ed131530-a026-4cdf-98b0-fd15539b225c",
   "metadata": {},
   "outputs": [],
   "source": [
    "# Ajustando os vetores y array\n",
    "y_treino_1d = y_treino.values.ravel()\n",
    "y_val_1d =    y_validacao.values.ravel()\n",
    "y_teste_1d =  y_teste.values.ravel()"
   ]
  },
  {
   "cell_type": "markdown",
   "id": "24e67435-299f-4687-876a-a8e44ecd7e91",
   "metadata": {},
   "source": [
    "# 3.0 Treinamento \n"
   ]
  },
  {
   "cell_type": "code",
   "execution_count": 9,
   "id": "6458a349-d8e0-4a01-b1b1-3b96e42aa15a",
   "metadata": {},
   "outputs": [
    {
     "data": {
      "text/html": [
       "<style>#sk-container-id-2 {color: black;background-color: white;}#sk-container-id-2 pre{padding: 0;}#sk-container-id-2 div.sk-toggleable {background-color: white;}#sk-container-id-2 label.sk-toggleable__label {cursor: pointer;display: block;width: 100%;margin-bottom: 0;padding: 0.3em;box-sizing: border-box;text-align: center;}#sk-container-id-2 label.sk-toggleable__label-arrow:before {content: \"▸\";float: left;margin-right: 0.25em;color: #696969;}#sk-container-id-2 label.sk-toggleable__label-arrow:hover:before {color: black;}#sk-container-id-2 div.sk-estimator:hover label.sk-toggleable__label-arrow:before {color: black;}#sk-container-id-2 div.sk-toggleable__content {max-height: 0;max-width: 0;overflow: hidden;text-align: left;background-color: #f0f8ff;}#sk-container-id-2 div.sk-toggleable__content pre {margin: 0.2em;color: black;border-radius: 0.25em;background-color: #f0f8ff;}#sk-container-id-2 input.sk-toggleable__control:checked~div.sk-toggleable__content {max-height: 200px;max-width: 100%;overflow: auto;}#sk-container-id-2 input.sk-toggleable__control:checked~label.sk-toggleable__label-arrow:before {content: \"▾\";}#sk-container-id-2 div.sk-estimator input.sk-toggleable__control:checked~label.sk-toggleable__label {background-color: #d4ebff;}#sk-container-id-2 div.sk-label input.sk-toggleable__control:checked~label.sk-toggleable__label {background-color: #d4ebff;}#sk-container-id-2 input.sk-hidden--visually {border: 0;clip: rect(1px 1px 1px 1px);clip: rect(1px, 1px, 1px, 1px);height: 1px;margin: -1px;overflow: hidden;padding: 0;position: absolute;width: 1px;}#sk-container-id-2 div.sk-estimator {font-family: monospace;background-color: #f0f8ff;border: 1px dotted black;border-radius: 0.25em;box-sizing: border-box;margin-bottom: 0.5em;}#sk-container-id-2 div.sk-estimator:hover {background-color: #d4ebff;}#sk-container-id-2 div.sk-parallel-item::after {content: \"\";width: 100%;border-bottom: 1px solid gray;flex-grow: 1;}#sk-container-id-2 div.sk-label:hover label.sk-toggleable__label {background-color: #d4ebff;}#sk-container-id-2 div.sk-serial::before {content: \"\";position: absolute;border-left: 1px solid gray;box-sizing: border-box;top: 0;bottom: 0;left: 50%;z-index: 0;}#sk-container-id-2 div.sk-serial {display: flex;flex-direction: column;align-items: center;background-color: white;padding-right: 0.2em;padding-left: 0.2em;position: relative;}#sk-container-id-2 div.sk-item {position: relative;z-index: 1;}#sk-container-id-2 div.sk-parallel {display: flex;align-items: stretch;justify-content: center;background-color: white;position: relative;}#sk-container-id-2 div.sk-item::before, #sk-container-id-2 div.sk-parallel-item::before {content: \"\";position: absolute;border-left: 1px solid gray;box-sizing: border-box;top: 0;bottom: 0;left: 50%;z-index: -1;}#sk-container-id-2 div.sk-parallel-item {display: flex;flex-direction: column;z-index: 1;position: relative;background-color: white;}#sk-container-id-2 div.sk-parallel-item:first-child::after {align-self: flex-end;width: 50%;}#sk-container-id-2 div.sk-parallel-item:last-child::after {align-self: flex-start;width: 50%;}#sk-container-id-2 div.sk-parallel-item:only-child::after {width: 0;}#sk-container-id-2 div.sk-dashed-wrapped {border: 1px dashed gray;margin: 0 0.4em 0.5em 0.4em;box-sizing: border-box;padding-bottom: 0.4em;background-color: white;}#sk-container-id-2 div.sk-label label {font-family: monospace;font-weight: bold;display: inline-block;line-height: 1.2em;}#sk-container-id-2 div.sk-label-container {text-align: center;}#sk-container-id-2 div.sk-container {/* jupyter's `normalize.less` sets `[hidden] { display: none; }` but bootstrap.min.css set `[hidden] { display: none !important; }` so we also need the `!important` here to be able to override the default hidden behavior on the sphinx rendered scikit-learn.org. See: https://github.com/scikit-learn/scikit-learn/issues/21755 */display: inline-block !important;position: relative;}#sk-container-id-2 div.sk-text-repr-fallback {display: none;}</style><div id=\"sk-container-id-2\" class=\"sk-top-container\"><div class=\"sk-text-repr-fallback\"><pre>RandomForestClassifier(max_depth=100, random_state=27)</pre><b>In a Jupyter environment, please rerun this cell to show the HTML representation or trust the notebook. <br />On GitHub, the HTML representation is unable to render, please try loading this page with nbviewer.org.</b></div><div class=\"sk-container\" hidden><div class=\"sk-item\"><div class=\"sk-estimator sk-toggleable\"><input class=\"sk-toggleable__control sk-hidden--visually\" id=\"sk-estimator-id-2\" type=\"checkbox\" checked><label for=\"sk-estimator-id-2\" class=\"sk-toggleable__label sk-toggleable__label-arrow\">RandomForestClassifier</label><div class=\"sk-toggleable__content\"><pre>RandomForestClassifier(max_depth=100, random_state=27)</pre></div></div></div></div></div>"
      ],
      "text/plain": [
       "RandomForestClassifier(max_depth=100, random_state=27)"
      ]
     },
     "execution_count": 9,
     "metadata": {},
     "output_type": "execute_result"
    }
   ],
   "source": [
    "# 3. Criar o modelo Random Forest\n",
    "rf = RandomForestClassifier(n_estimators=100, max_depth= 100, random_state=27)\n",
    "\n",
    "#Treinando o modelo\n",
    "rf.fit(x_treino, y_treino_1d)"
   ]
  },
  {
   "cell_type": "code",
   "execution_count": 26,
   "id": "c22e8f8a-f4db-4fcf-a543-d248ae382a96",
   "metadata": {},
   "outputs": [],
   "source": [
    "#  Treinar o modelo\n",
    "y_pred_treino = rf.predict(x_treino)\n",
    "y_pred_val = rf.predict(x_validacao)\n",
    "y_pred_teste = rf.predict(x_teste)"
   ]
  },
  {
   "cell_type": "code",
   "execution_count": 16,
   "id": "52e43b5d-46e7-4705-b51a-dff79eb3eef6",
   "metadata": {},
   "outputs": [
    {
     "name": "stdout",
     "output_type": "stream",
     "text": [
      "Acurácia:  1.0\n",
      "Precisão:  1.0\n",
      "Recall:    1.0\n",
      "F1 Score:  1.0\n"
     ]
    }
   ],
   "source": [
    "# treinamento\n",
    "print(\"Acurácia: \", accuracy_score(y_treino_1d, y_pred_treino))\n",
    "print(\"Precisão: \", precision_score(y_treino_1d, y_pred_treino))\n",
    "print(\"Recall:   \", recall_score(y_treino_1d, y_pred_treino))\n",
    "print(\"F1 Score: \", f1_score(y_treino_1d, y_pred_treino))"
   ]
  },
  {
   "cell_type": "code",
   "execution_count": 22,
   "id": "0682e740-91db-4a27-a58f-69446cee3a21",
   "metadata": {},
   "outputs": [
    {
     "data": {
      "text/plain": [
       "(31079,)"
      ]
     },
     "execution_count": 22,
     "metadata": {},
     "output_type": "execute_result"
    }
   ],
   "source": [
    "y_val_1d.shape"
   ]
  },
  {
   "cell_type": "code",
   "execution_count": 23,
   "id": "0014a2a5-aafd-4701-9889-773226513367",
   "metadata": {},
   "outputs": [
    {
     "data": {
      "text/plain": [
       "(72515,)"
      ]
     },
     "execution_count": 23,
     "metadata": {},
     "output_type": "execute_result"
    }
   ],
   "source": [
    "y_pred_val.shape"
   ]
  },
  {
   "cell_type": "code",
   "execution_count": 28,
   "id": "51906ad5-5b90-4650-9b30-3948808cf75a",
   "metadata": {},
   "outputs": [
    {
     "name": "stdout",
     "output_type": "stream",
     "text": [
      "Acurácia:  0.9647993822195051\n",
      "Precisão:  0.9743923943877942\n",
      "Recall:    0.9435741331947435\n",
      "F1 Score:  0.9587356668678335\n"
     ]
    }
   ],
   "source": [
    "# validacao\n",
    "print(\"Acurácia: \", accuracy_score(y_val_1d, y_pred_val))\n",
    "print(\"Precisão: \", precision_score(y_val_1d, y_pred_val))\n",
    "print(\"Recall:   \", recall_score(y_val_1d, y_pred_val))\n",
    "print(\"F1 Score: \", f1_score(y_val_1d, y_pred_val))"
   ]
  },
  {
   "cell_type": "code",
   "execution_count": 19,
   "id": "27d90d08-8d5a-41aa-9712-5b4f608560f3",
   "metadata": {},
   "outputs": [
    {
     "name": "stdout",
     "output_type": "stream",
     "text": [
      "Acurácia:  0.9637353724944966\n",
      "Precisão:  0.9721920289855073\n",
      "Recall:    0.9443906731192256\n",
      "F1 Score:  0.9580897121178308\n"
     ]
    }
   ],
   "source": [
    "# teste\n",
    "print(\"Acurácia: \", accuracy_score(y_teste_1d, y_pred_teste))\n",
    "print(\"Precisão: \", precision_score(y_teste_1d, y_pred_teste))\n",
    "print(\"Recall:   \", recall_score(y_teste_1d, y_pred_teste))\n",
    "print(\"F1 Score: \", f1_score(y_teste_1d, y_pred_teste))"
   ]
  },
  {
   "cell_type": "code",
   "execution_count": null,
   "id": "89d94295-647b-4ea8-bd88-a9d948c8d908",
   "metadata": {},
   "outputs": [],
   "source": []
  }
 ],
 "metadata": {
  "kernelspec": {
   "display_name": "Python 3 (ipykernel)",
   "language": "python",
   "name": "python3"
  },
  "language_info": {
   "codemirror_mode": {
    "name": "ipython",
    "version": 3
   },
   "file_extension": ".py",
   "mimetype": "text/x-python",
   "name": "python",
   "nbconvert_exporter": "python",
   "pygments_lexer": "ipython3",
   "version": "3.10.9"
  }
 },
 "nbformat": 4,
 "nbformat_minor": 5
}
